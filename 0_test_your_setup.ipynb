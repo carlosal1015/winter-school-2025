{
 "cells": [
  {
   "cell_type": "markdown",
   "id": "2286f1cb",
   "metadata": {},
   "source": [
    "# Test the setup\n",
    "\n",
    "The script below can be used to test that everything is working as intended.\n",
    "If your local installation is not working, you can also use [Google Colab](https://colab.research.google.com)\n",
    "or [Kaggle Notebook](https://www.kaggle.com/code)."
   ]
  },
  {
   "cell_type": "code",
   "execution_count": 1,
   "id": "6bf243b4",
   "metadata": {},
   "outputs": [
    {
     "name": "stdout",
     "output_type": "stream",
     "text": [
      "Python version: sys.version_info(major=3, minor=13, micro=7, releaselevel='final', serial=0)\n",
      "NumPy version: 2.3.2\n",
      "SciPy version: 1.16.1\n",
      "Matplotlib version: 3.10.5\n",
      "Scikit Learn version: 1.7.1\n",
      "Seaborn version:  0.13.2\n",
      "Pandas version:  2.3.1\n",
      "Everything is working fine!\n"
     ]
    }
   ],
   "source": [
    "import cProfile\n",
    "import time\n",
    "from sys import version_info\n",
    "\n",
    "import matplotlib as mpl\n",
    "import numpy as np\n",
    "import pandas as pd\n",
    "import scipy as sp\n",
    "import seaborn as sns\n",
    "import sklearn\n",
    "\n",
    "print(\"Python version:\", version_info)\n",
    "print(\"NumPy version:\", np.version.version)\n",
    "print(\"SciPy version:\", sp.version.full_version)\n",
    "print(\"Matplotlib version:\", mpl.__version__)\n",
    "print(\"Scikit Learn version:\", sklearn.__version__)\n",
    "print(\"Seaborn version: \", sns.__version__)\n",
    "print(\"Pandas version: \", pd.__version__)\n",
    "\n",
    "print(\"Everything is working fine!\")"
   ]
  }
 ],
 "metadata": {
  "kernelspec": {
   "display_name": "Python 3",
   "language": "python",
   "name": "python3"
  },
  "language_info": {
   "codemirror_mode": {
    "name": "ipython",
    "version": 3
   },
   "file_extension": ".py",
   "mimetype": "text/x-python",
   "name": "python",
   "nbconvert_exporter": "python",
   "pygments_lexer": "ipython3",
   "version": "3.13.7"
  }
 },
 "nbformat": 4,
 "nbformat_minor": 5
}
