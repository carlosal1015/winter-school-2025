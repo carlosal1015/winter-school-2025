{
 "cells": [
  {
   "cell_type": "markdown",
   "id": "2286f1cb",
   "metadata": {},
   "source": [
    "# Test the setup\n",
    "\n",
    "The script below can be used to test that everything is working as intended.\n",
    "If your local installation is not working, you can also use [Google Colab](https://colab.research.google.com)\n",
    "or [Kaggle Notebook](https://www.kaggle.com/code)."
   ]
  },
  {
   "cell_type": "code",
   "execution_count": null,
   "id": "6bf243b4",
   "metadata": {},
   "outputs": [
    {
     "name": "stdout",
     "output_type": "stream",
     "text": [
      "2.3.2\n",
      "1.16.1\n",
      "3.10.5\n",
      "1.7.1\n",
      "Everything is working fine!\n"
     ]
    }
   ],
   "source": [
    "import matplotlib as mpl\n",
    "import numpy as np\n",
    "import scipy as sp\n",
    "import sklearn\n",
    "\n",
    "print(np.version.version)\n",
    "print(sp.version.full_version)\n",
    "print(mpl.__version__)\n",
    "print(sklearn.__version__)\n",
    "\n",
    "print(\"Everything is working fine!\")"
   ]
  }
 ],
 "metadata": {
  "kernelspec": {
   "display_name": "Python 3",
   "language": "python",
   "name": "python3"
  },
  "language_info": {
   "codemirror_mode": {
    "name": "ipython",
    "version": 3
   },
   "file_extension": ".py",
   "mimetype": "text/x-python",
   "name": "python",
   "nbconvert_exporter": "python",
   "pygments_lexer": "ipython3",
   "version": "3.13.7"
  }
 },
 "nbformat": 4,
 "nbformat_minor": 5
}
