{
 "cells": [
  {
   "cell_type": "markdown",
   "id": "914040ee",
   "metadata": {},
   "source": [
    "# Introduction to numpy\n"
   ]
  },
  {
   "cell_type": "markdown",
   "id": "13611029",
   "metadata": {},
   "source": [
    "First import the most important modules"
   ]
  },
  {
   "cell_type": "code",
   "execution_count": null,
   "id": "e720de16",
   "metadata": {},
   "outputs": [],
   "source": [
    "import time\n",
    "\n",
    "import matplotlib.pyplot as plt\n",
    "import numpy as np"
   ]
  },
  {
   "cell_type": "code",
   "execution_count": null,
   "id": "d515f27d",
   "metadata": {},
   "outputs": [],
   "source": [
    "# import pandas as pd\n",
    "# pd.set_option(\"display.max_columns\", None)\n",
    "# pd.set_option(\"display.width\", None)\n",
    "# pd.set_option(\"display.max_rows\", None)\n",
    "# pd.DataFrame(A)"
   ]
  },
  {
   "cell_type": "markdown",
   "id": "547b8f4e",
   "metadata": {},
   "source": [
    "## Numpy arrays\n",
    "The main advantage of numpy is arrays. It's a way to add /subtract/multiply/... many numbers in one line. "
   ]
  },
  {
   "cell_type": "markdown",
   "id": "91589b96",
   "metadata": {},
   "source": [
    "### Creation of arrays\n",
    "There are many ways to create arrays, the most important one are listed below"
   ]
  },
  {
   "cell_type": "code",
   "execution_count": null,
   "id": "3c7b52a9",
   "metadata": {},
   "outputs": [
    {
     "name": "stdout",
     "output_type": "stream",
     "text": [
      "[1 2 3]\n",
      "<class 'numpy.ndarray'>\n",
      "[0. 0. 0. 0. 0.]\n",
      "[ 0.   2.5  5.   7.5 10. ]\n",
      "[0 2 4 6 8]\n"
     ]
    }
   ],
   "source": [
    "# create numpy array from a python list\n",
    "a = np.array([1, 2, 3])\n",
    "print(a)\n",
    "print(type(a))\n",
    "\n",
    "# create numpy array with zeros\n",
    "b = np.zeros(5)\n",
    "print(b)\n",
    "\n",
    "# create numpy array with equal spacing\n",
    "c = np.linspace(0, 10, 5)  # start stop steps\n",
    "print(c)\n",
    "# or\n",
    "c = np.arange(0, 10, 2)  # start stop stepzise\n",
    "print(c)"
   ]
  },
  {
   "cell_type": "markdown",
   "id": "48baa6f4",
   "metadata": {},
   "source": [
    "More dimensional arrays are possible, too."
   ]
  },
  {
   "cell_type": "code",
   "execution_count": null,
   "id": "3d9989d4",
   "metadata": {},
   "outputs": [
    {
     "name": "stdout",
     "output_type": "stream",
     "text": [
      "[[1 2 3]\n",
      " [4 5 6]\n",
      " [7 8 9]]\n",
      "(3, 3)\n",
      "[[0. 0. 0.]\n",
      " [0. 0. 0.]\n",
      " [0. 0. 0.]]\n"
     ]
    }
   ],
   "source": [
    "# create 2d array\n",
    "d = np.array([[1, 2, 3], [4, 5, 6], [7, 8, 9]])\n",
    "print(d)\n",
    "print(d.shape)  # shows the dimensions of the array\n",
    "\n",
    "# or 2d zeros\n",
    "e = np.zeros((3, 3))\n",
    "print(e)"
   ]
  },
  {
   "cell_type": "markdown",
   "id": "ee8921ae",
   "metadata": {},
   "source": [
    "### Access and slicing\n",
    "\n",
    "Of course, we will modify the entries of an array."
   ]
  },
  {
   "cell_type": "code",
   "execution_count": null,
   "id": "200c4e5d",
   "metadata": {},
   "outputs": [
    {
     "name": "stdout",
     "output_type": "stream",
     "text": [
      "before [1 2 3]\n",
      "after [10  2  3]\n",
      "last element 3\n",
      "\n",
      "entries of array: 2\n"
     ]
    }
   ],
   "source": [
    "a = np.array([1, 2, 3])\n",
    "print(\"before\", a)\n",
    "a[0] = 10  # acces first element and set it to 10\n",
    "print(\"after\", a)\n",
    "print(\"last element\", a[-1])\n",
    "\n",
    "\n",
    "b = np.array([[1, 2, 3], [4, 5, 6], [7, 8, 9]])\n",
    "print(\"\\nentries of array:\", b[0, 1])  # access first row, second column"
   ]
  },
  {
   "cell_type": "markdown",
   "id": "bfedf89a",
   "metadata": {},
   "source": [
    "A nice feature is the access of ranges via \":\""
   ]
  },
  {
   "cell_type": "code",
   "execution_count": 6,
   "id": "59250da3",
   "metadata": {},
   "outputs": [
    {
     "data": {
      "text/plain": [
       "array([[1, 2, 3],\n",
       "       [4, 5, 6],\n",
       "       [7, 8, 9]])"
      ]
     },
     "execution_count": 6,
     "metadata": {},
     "output_type": "execute_result"
    }
   ],
   "source": [
    "b"
   ]
  },
  {
   "cell_type": "code",
   "execution_count": null,
   "id": "6f95dab9",
   "metadata": {},
   "outputs": [
    {
     "name": "stdout",
     "output_type": "stream",
     "text": [
      "[2]\n",
      "[2 3]\n",
      "[2 5 8]\n",
      "[4 5 6]\n"
     ]
    }
   ],
   "source": [
    "print(a[1:2])\n",
    "print(a[1:])\n",
    "# or in more dimensions\n",
    "print(b[:, 1])  # access all rows, second column\n",
    "print(b[1, :])  # access second row, all columns"
   ]
  },
  {
   "cell_type": "markdown",
   "id": "75d32d11",
   "metadata": {},
   "source": [
    "#### Exercises\n",
    "\n",
    "1. Create an array with time steps between 0, 0.01, 0.02, 0.03 ... 1\n",
    "    - Print from this the numbers 0.5, 0.51,...,0.56 \n",
    "2. create a 3x3 array with the numbers from 1-9. (.reshape may help...)\n",
    "    - print the second column, and the second row\n",
    "    - change the number in the middle to 55\n",
    "    - print the 2nd row and column again\n"
   ]
  },
  {
   "cell_type": "markdown",
   "id": "c80a6f0c",
   "metadata": {},
   "source": [
    "#### Solution"
   ]
  },
  {
   "cell_type": "code",
   "execution_count": 26,
   "id": "73d37e23",
   "metadata": {},
   "outputs": [
    {
     "name": "stdout",
     "output_type": "stream",
     "text": [
      "[0.   0.01 0.02 0.03 0.04 0.05 0.06 0.07 0.08 0.09 0.1  0.11 0.12 0.13\n",
      " 0.14 0.15 0.16 0.17 0.18 0.19 0.2  0.21 0.22 0.23 0.24 0.25 0.26 0.27\n",
      " 0.28 0.29 0.3  0.31 0.32 0.33 0.34 0.35 0.36 0.37 0.38 0.39 0.4  0.41\n",
      " 0.42 0.43 0.44 0.45 0.46 0.47 0.48 0.49 0.5  0.51 0.52 0.53 0.54 0.55\n",
      " 0.56 0.57 0.58 0.59 0.6  0.61 0.62 0.63 0.64 0.65 0.66 0.67 0.68 0.69\n",
      " 0.7  0.71 0.72 0.73 0.74 0.75 0.76 0.77 0.78 0.79 0.8  0.81 0.82 0.83\n",
      " 0.84 0.85 0.86 0.87 0.88 0.89 0.9  0.91 0.92 0.93 0.94 0.95 0.96 0.97\n",
      " 0.98 0.99 1.  ]\n",
      "[0.5  0.51 0.52 0.53 0.54 0.55 0.56]\n"
     ]
    }
   ],
   "source": [
    "a = np.arange(0, 1 + 0.01, 0.01)\n",
    "print(a)\n",
    "print(a[50:57])"
   ]
  },
  {
   "cell_type": "code",
   "execution_count": null,
   "id": "30b2e217",
   "metadata": {},
   "outputs": [
    {
     "name": "stdout",
     "output_type": "stream",
     "text": [
      "[[1 2 3]\n",
      " [4 5 6]\n",
      " [7 8 9]]\n",
      "[2 5 8]\n",
      "[4 5 6]\n",
      "[ 2 55  8]\n",
      "[ 4 55  6]\n"
     ]
    }
   ],
   "source": [
    "b = np.arange(1, 10).reshape(3, 3)\n",
    "print(b)\n",
    "print(b[:, 1])  # second column\n",
    "print(b[1, :])  # second row\n",
    "b[1, 1] = 55\n",
    "print(b[:, 1])  # second column\n",
    "print(b[1, :])  # second row"
   ]
  },
  {
   "cell_type": "markdown",
   "id": "a93d041a",
   "metadata": {},
   "source": [
    "### Basic arithmetics and functions\n",
    "You can add, multiply, ... arrays like normal numbers, if\n",
    "- to a scalar\n",
    "- to an array of same size"
   ]
  },
  {
   "cell_type": "code",
   "execution_count": null,
   "id": "baca1505",
   "metadata": {},
   "outputs": [
    {
     "name": "stdout",
     "output_type": "stream",
     "text": [
      "a [ 0.   2.5  5.   7.5 10. ]\n",
      "3a+1 [ 1.   8.5 16.  23.5 31. ]\n",
      "a^2-b [-1.   -2.25  9.   32.75 69.  ]\n",
      "The sum of  [ 0.   2.5  5.   7.5 10. ] is  25.0\n"
     ]
    }
   ],
   "source": [
    "a = np.linspace(0, 10, 5)\n",
    "print(\"a\", a)\n",
    "b = 3 * a + 1\n",
    "print(\"3a+1\", b)\n",
    "print(\"a^2-b\", a**2 - b)\n",
    "print(\"The sum of \", a, \"is \", np.sum(a))"
   ]
  },
  {
   "cell_type": "markdown",
   "id": "13b310df",
   "metadata": {},
   "source": [
    "Functions work as well:"
   ]
  },
  {
   "cell_type": "code",
   "execution_count": null,
   "id": "01c4b6a0",
   "metadata": {},
   "outputs": [
    {
     "data": {
      "image/png": "[encoded data removed]",
      "text/plain": [
       "<Figure size 640x480 with 1 Axes>"
      ]
     },
     "metadata": {},
     "output_type": "display_data"
    }
   ],
   "source": [
    "times = np.linspace(0, 2 * np.pi, 100)\n",
    "signal = np.sin(times)\n",
    "\n",
    "plt.plot(times, signal, label=\"sin(t)\")\n",
    "plt.title(\"A wonderful plot\")\n",
    "plt.xlabel(\"t\")\n",
    "plt.ylabel(\"signal\")\n",
    "plt.legend()\n",
    "plt.show()"
   ]
  },
  {
   "cell_type": "markdown",
   "id": "f7ae60a2",
   "metadata": {},
   "source": [
    "#### Exercises\n",
    "1. Calculate the scalar product of the vectors (1,2,3) and (3,2,1)\n",
    "2. plot the functions $x^2 $ and $ \\sqrt{x^2 +1}$ from -1 to 1\n",
    "    - add a title and a legend to the plot\n"
   ]
  },
  {
   "cell_type": "markdown",
   "id": "a3b466a3",
   "metadata": {},
   "source": [
    "#### Solution"
   ]
  },
  {
   "cell_type": "code",
   "execution_count": null,
   "id": "f2c1c6a9",
   "metadata": {},
   "outputs": [],
   "source": [
    "# this space is for your code\n",
    "x = np.array([1, 2, 3])\n",
    "y = np.array([3, 2, 1])\n",
    "print(np.dot(x, y))"
   ]
  },
  {
   "cell_type": "code",
   "execution_count": 48,
   "id": "79cce2fc",
   "metadata": {},
   "outputs": [
    {
     "data": {
      "image/png": "[encoded data removed]",
      "text/plain": [
       "<Figure size 640x480 with 1 Axes>"
      ]
     },
     "metadata": {},
     "output_type": "display_data"
    }
   ],
   "source": [
    "x = np.linspace(-1, 1)\n",
    "plt.plot(x, x**2, label=r\"$x^2$\")\n",
    "plt.plot(x, np.sqrt(x**2 + 1), label=r\"$\\sqrt{x^2+1}$\")\n",
    "plt.title(\"Plots\")\n",
    "plt.legend()\n",
    "plt.show()"
   ]
  },
  {
   "cell_type": "markdown",
   "id": "6b1410a5",
   "metadata": {},
   "source": [
    "### Vectors and matrices\n",
    "Of course, we can use matrices and vectors as well.\n"
   ]
  },
  {
   "cell_type": "code",
   "execution_count": null,
   "id": "16d5531f",
   "metadata": {},
   "outputs": [
    {
     "name": "stdout",
     "output_type": "stream",
     "text": [
      "[[1. 0. 0. 0. 0.]\n",
      " [0. 1. 0. 0. 0.]\n",
      " [0. 0. 1. 0. 0.]\n",
      " [0. 0. 0. 1. 0.]\n",
      " [0. 0. 0. 0. 1.]]\n",
      "[[1. 0. 0. 1. 0.]\n",
      " [0. 1. 0. 1. 0.]\n",
      " [0. 0. 1. 1. 0.]\n",
      " [0. 0. 0. 1. 0.]\n",
      " [0. 0. 0. 1. 1.]]\n",
      "[[ 1.  0.  0.  1.  0.]\n",
      " [ 0.  1.  0.  1.  0.]\n",
      " [ 0.  0.  1.  1.  0.]\n",
      " [-1. -1. -1. -1. -1.]\n",
      " [ 0.  0.  0.  1.  1.]]\n",
      "[[ 1.  0.  0.  1.  0.]\n",
      " [ 0.  1.  0.  1.  0.]\n",
      " [ 0.  0.  1.  1.  0.]\n",
      " [-1. -1. -1. -1. -1.]\n",
      " [ 0.  0.  0.  1.  1.]]\n",
      "[0.75392763 0.39515365 0.11870981 0.28355893 0.32121813]\n",
      "[ 1.03748657  0.67871259  0.40226875 -1.87256816  0.60477707]\n"
     ]
    },
    {
     "data": {
      "image/png": "[encoded data removed]",
      "text/plain": [
       "<Figure size 1500x500 with 4 Axes>"
      ]
     },
     "metadata": {},
     "output_type": "display_data"
    }
   ],
   "source": [
    "# create a 5x5 identity matrix\n",
    "A = np.eye(5)\n",
    "print(A)\n",
    "# modify the matrix\n",
    "A[:, 3] = 1  # la cuarta columna de A es 1\n",
    "print(A)\n",
    "A[3, :] = -1  # la cuarta fila de A es 1\n",
    "print(A)\n",
    "# create a random vector\n",
    "v = np.random.rand(5)\n",
    "print(A)\n",
    "print(v)\n",
    "# calculate matrix vector multiplication A*v\n",
    "w = A @ v\n",
    "print(w)\n",
    "# or in pictures\n",
    "fig, ax = plt.subplots(1, 3, figsize=(15, 5))\n",
    "im = ax[0].matshow(A)\n",
    "ax[0].set_title(\"A\")\n",
    "ax[1].matshow(v.reshape(5, 1))  # matshow expects a 2d array\n",
    "ax[1].set_title(\"v\")\n",
    "ax[2].matshow(w.reshape(5, 1))\n",
    "ax[2].set_title(\"A*v\")\n",
    "fig.colorbar(im, ax=ax)\n",
    "plt.show()"
   ]
  },
  {
   "cell_type": "code",
   "execution_count": 54,
   "id": "d89660e1",
   "metadata": {},
   "outputs": [
    {
     "name": "stdout",
     "output_type": "stream",
     "text": [
      "\u001b[31mSignature:\u001b[39m np.random.rand(*args)\n",
      "\u001b[31mDocstring:\u001b[39m\n",
      "rand(d0, d1, ..., dn)\n",
      "\n",
      "Random values in a given shape.\n",
      "\n",
      ".. note::\n",
      "    This is a convenience function for users porting code from Matlab,\n",
      "    and wraps `random_sample`. That function takes a\n",
      "    tuple to specify the size of the output, which is consistent with\n",
      "    other NumPy functions like `numpy.zeros` and `numpy.ones`.\n",
      "\n",
      "Create an array of the given shape and populate it with\n",
      "random samples from a uniform distribution\n",
      "over ``[0, 1)``.\n",
      "\n",
      "Parameters\n",
      "----------\n",
      "d0, d1, ..., dn : int, optional\n",
      "    The dimensions of the returned array, must be non-negative.\n",
      "    If no argument is given a single Python float is returned.\n",
      "\n",
      "Returns\n",
      "-------\n",
      "out : ndarray, shape ``(d0, d1, ..., dn)``\n",
      "    Random values.\n",
      "\n",
      "See Also\n",
      "--------\n",
      "random\n",
      "\n",
      "Examples\n",
      "--------\n",
      ">>> np.random.rand(3,2)\n",
      "array([[ 0.14022471,  0.96360618],  #random\n",
      "       [ 0.37601032,  0.25528411],  #random\n",
      "       [ 0.49313049,  0.94909878]]) #random\n",
      "\u001b[31mType:\u001b[39m      method"
     ]
    }
   ],
   "source": [
    "?np.random.rand"
   ]
  },
  {
   "cell_type": "markdown",
   "id": "c566c72c",
   "metadata": {},
   "source": [
    "Another handy function: np.diag     "
   ]
  },
  {
   "cell_type": "code",
   "execution_count": null,
   "id": "ee8bd09c",
   "metadata": {},
   "outputs": [],
   "source": [
    "A = np.eye(5)\n",
    "# returns the diagonal entries of matrix\n",
    "print(np.diag(A))\n",
    "v = np.random.rand(5)\n",
    "print(v)\n",
    "\n",
    "# or create matrices from a vector\n",
    "fig, ax = plt.subplots(1, 2, figsize=(10, 5))\n",
    "ax[0].matshow(np.diag(v))\n",
    "im = ax[1].matshow(np.diag(v[:-1], k=1))\n",
    "fig.colorbar(im, ax=ax)"
   ]
  },
  {
   "cell_type": "markdown",
   "id": "168748a5",
   "metadata": {},
   "source": [
    "#### Exercises\n",
    "1. Create a random 5x5 Matrix\n",
    "    -   plot this matrix\n",
    "2. Create tridiagonal matrix, which has 2 on its diagonal and -1 on both first off diagonals.\n",
    "    - apply this matrix to the vector (0,0,1,0,0)"
   ]
  },
  {
   "cell_type": "markdown",
   "id": "e6273459",
   "metadata": {},
   "source": [
    "#### Solution"
   ]
  },
  {
   "cell_type": "code",
   "execution_count": 62,
   "id": "32937ae8",
   "metadata": {},
   "outputs": [
    {
     "name": "stdout",
     "output_type": "stream",
     "text": [
      "[[0.563516   0.21575811 0.88410414 0.4121313  0.3015672 ]\n",
      " [0.00182956 0.74029798 0.85098852 0.76002891 0.7240564 ]\n",
      " [0.94203741 0.95825417 0.6635692  0.74790186 0.14485516]\n",
      " [0.59189548 0.77802488 0.60341192 0.54190412 0.4520644 ]\n",
      " [0.55310565 0.93030789 0.46538775 0.07041891 0.26000857]]\n"
     ]
    },
    {
     "data": {
      "image/png": "[encoded data removed]",
      "text/plain": [
       "<Figure size 640x480 with 1 Axes>"
      ]
     },
     "metadata": {},
     "output_type": "display_data"
    }
   ],
   "source": [
    "A = np.random.rand(5, 5)\n",
    "print(A)\n",
    "fig, ax = plt.subplots()\n",
    "ax.matshow(A)\n",
    "plt.show()"
   ]
  },
  {
   "cell_type": "code",
   "execution_count": null,
   "id": "ba72c03b",
   "metadata": {},
   "outputs": [
    {
     "name": "stdout",
     "output_type": "stream",
     "text": [
      "[[-2. -1.  0.  0.  0.]\n",
      " [-1. -2. -1.  0.  0.]\n",
      " [ 0. -1. -2. -1.  0.]\n",
      " [ 0.  0. -1. -2. -1.]\n",
      " [ 0.  0.  0. -1. -2.]]\n"
     ]
    }
   ],
   "source": [
    "T = np.diag(-2 * np.ones(5))\n",
    "T1 = np.diag(-np.ones(4), k=1)\n",
    "T2 = np.diag(-np.ones(4), k=-1)\n",
    "print(T + T1 + T2)\n",
    "# print(T)\n",
    "# print(T.shape)\n",
    "# print(T1)\n",
    "# print(T1.shape)\n",
    "# print(T2)\n",
    "# print(T2.shape)\n",
    "# T = np.diag(v=[2*np.ones(5), np.ones(4), np.ones(4)], k=[0, 1, -1])\n",
    "# print(T)"
   ]
  },
  {
   "cell_type": "markdown",
   "id": "8202f37b",
   "metadata": {},
   "source": [
    "### For loops\n",
    "Let's check the speed of numpy in comparison to normal for-loops."
   ]
  },
  {
   "cell_type": "code",
   "execution_count": null,
   "id": "6c7f84cf",
   "metadata": {},
   "outputs": [
    {
     "name": "stdout",
     "output_type": "stream",
     "text": [
      "1755547396.738298\n",
      "1755547396.7388635\n",
      "0.0005655288696289062\n",
      "numpy 0.0005655288696289062\n",
      "for loop 0.2207043170928955\n",
      "numpy is 390.2618043844857 times faster\n"
     ]
    }
   ],
   "source": [
    "n = 1000\n",
    "A = np.eye(n)\n",
    "# print(A)\n",
    "v = np.linspace(0, 1, n)\n",
    "# print(v)\n",
    "time_np_start = time.time()\n",
    "print(time_np_start)\n",
    "w = A @ v\n",
    "# print(w)\n",
    "time_np_end = time.time()\n",
    "print(time_np_end)\n",
    "time_np = time_np_end - time_np_start\n",
    "print(time_np)\n",
    "\n",
    "time_for_loop_start = time.time()\n",
    "w = np.zeros(n)\n",
    "for i in range(n):\n",
    "    for j in range(n):\n",
    "        w[i] = A[i, j] * v[j]\n",
    "time_for_loop_end = time.time()\n",
    "time_for_loop = time_for_loop_end - time_for_loop_start\n",
    "\n",
    "print(\"numpy\", time_np)\n",
    "print(\"for loop\", time_for_loop)\n",
    "print(\"numpy is\", time_for_loop / time_np, \"times faster\")"
   ]
  },
  {
   "cell_type": "markdown",
   "id": "c81e7d11",
   "metadata": {},
   "source": [
    "It is good to keep this in mind!"
   ]
  },
  {
   "cell_type": "markdown",
   "id": "576248dd",
   "metadata": {},
   "source": [
    "### Masking\n",
    "Masking is the possibility to select entries of an array by a given array of Booleans or integers"
   ]
  },
  {
   "cell_type": "markdown",
   "id": "1559f181",
   "metadata": {},
   "source": [
    "Execute the next Cell several times"
   ]
  },
  {
   "cell_type": "code",
   "execution_count": null,
   "id": "dd83a968",
   "metadata": {},
   "outputs": [
    {
     "name": "stdout",
     "output_type": "stream",
     "text": [
      "[0.   0.25 0.5  0.75 1.  ]\n",
      "[False False False  True  True]\n",
      "[0.75 1.  ]\n",
      "[3 4]\n",
      "random vector [0.67166894 0.11590332 0.93706543 0.15602443 0.13581534]\n",
      "sorted random vector [0.11590332 0.13581534 0.15602443 0.67166894 0.93706543]\n",
      "random order [0.25 1.   0.75 0.   0.5 ] with order [1 4 3 0 2]\n"
     ]
    }
   ],
   "source": [
    "n = 5\n",
    "v = np.linspace(0, 1, n)\n",
    "# create array of Booleans\n",
    "mask = v > 0.5\n",
    "print(v)\n",
    "print(mask)\n",
    "# print only the selction\n",
    "print(v[mask])\n",
    "# print  the indices\n",
    "print(np.where(v > 0.5)[0])\n",
    "\n",
    "# let's create a random order of this vector\n",
    "w = np.random.rand(n)\n",
    "mask2 = np.argsort(w)\n",
    "print(\"random vector\", w)\n",
    "print(\"sorted random vector\", w[mask2])\n",
    "print(\"random order\", v[mask2], \"with order\", mask2)"
   ]
  },
  {
   "cell_type": "markdown",
   "id": "61db3187",
   "metadata": {},
   "source": [
    "#### Exercises\n",
    "1. Create a random 10 by 10 matrix\n",
    "    - plot the matrix\n",
    "    - print the position and the maximal value (argmax)\n",
    "    - Bonus for fast people (Is it before 14:20?)\n"
   ]
  },
  {
   "cell_type": "code",
   "execution_count": 118,
   "id": "bb7cb785",
   "metadata": {},
   "outputs": [
    {
     "name": "stdout",
     "output_type": "stream",
     "text": [
      "\u001b[31mSignature:\u001b[39m       np.argmax(a, axis=\u001b[38;5;28;01mNone\u001b[39;00m, out=\u001b[38;5;28;01mNone\u001b[39;00m, *, keepdims=<no value>)\n",
      "\u001b[31mCall signature:\u001b[39m  np.argmax(*args, **kwargs)\n",
      "\u001b[31mType:\u001b[39m            _ArrayFunctionDispatcher\n",
      "\u001b[31mString form:\u001b[39m     <function argmax at 0x72d300248b80>\n",
      "\u001b[31mFile:\u001b[39m            /usr/lib/python3.13/site-packages/numpy/_core/fromnumeric.py\n",
      "\u001b[31mDocstring:\u001b[39m      \n",
      "Returns the indices of the maximum values along an axis.\n",
      "\n",
      "Parameters\n",
      "----------\n",
      "a : array_like\n",
      "    Input array.\n",
      "axis : int, optional\n",
      "    By default, the index is into the flattened array, otherwise\n",
      "    along the specified axis.\n",
      "out : array, optional\n",
      "    If provided, the result will be inserted into this array. It should\n",
      "    be of the appropriate shape and dtype.\n",
      "keepdims : bool, optional\n",
      "    If this is set to True, the axes which are reduced are left\n",
      "    in the result as dimensions with size one. With this option,\n",
      "    the result will broadcast correctly against the array.\n",
      "\n",
      "    .. versionadded:: 1.22.0\n",
      "\n",
      "Returns\n",
      "-------\n",
      "index_array : ndarray of ints\n",
      "    Array of indices into the array. It has the same shape as ``a.shape``\n",
      "    with the dimension along `axis` removed. If `keepdims` is set to True,\n",
      "    then the size of `axis` will be 1 with the resulting array having same\n",
      "    shape as ``a.shape``.\n",
      "\n",
      "See Also\n",
      "--------\n",
      "ndarray.argmax, argmin\n",
      "amax : The maximum value along a given axis.\n",
      "unravel_index : Convert a flat index into an index tuple.\n",
      "take_along_axis : Apply ``np.expand_dims(index_array, axis)``\n",
      "                  from argmax to an array as if by calling max.\n",
      "\n",
      "Notes\n",
      "-----\n",
      "In case of multiple occurrences of the maximum values, the indices\n",
      "corresponding to the first occurrence are returned.\n",
      "\n",
      "Examples\n",
      "--------\n",
      ">>> import numpy as np\n",
      ">>> a = np.arange(6).reshape(2,3) + 10\n",
      ">>> a\n",
      "array([[10, 11, 12],\n",
      "       [13, 14, 15]])\n",
      ">>> np.argmax(a)\n",
      "5\n",
      ">>> np.argmax(a, axis=0)\n",
      "array([1, 1, 1])\n",
      ">>> np.argmax(a, axis=1)\n",
      "array([2, 2])\n",
      "\n",
      "Indexes of the maximal elements of a N-dimensional array:\n",
      "\n",
      ">>> ind = np.unravel_index(np.argmax(a, axis=None), a.shape)\n",
      ">>> ind\n",
      "(1, 2)\n",
      ">>> a[ind]\n",
      "15\n",
      "\n",
      ">>> b = np.arange(6)\n",
      ">>> b[1] = 5\n",
      ">>> b\n",
      "array([0, 5, 2, 3, 4, 5])\n",
      ">>> np.argmax(b)  # Only the first occurrence is returned.\n",
      "1\n",
      "\n",
      ">>> x = np.array([[4,2,3], [1,0,3]])\n",
      ">>> index_array = np.argmax(x, axis=-1)\n",
      ">>> # Same as np.amax(x, axis=-1, keepdims=True)\n",
      ">>> np.take_along_axis(x, np.expand_dims(index_array, axis=-1), axis=-1)\n",
      "array([[4],\n",
      "       [3]])\n",
      ">>> # Same as np.amax(x, axis=-1)\n",
      ">>> np.take_along_axis(x, np.expand_dims(index_array, axis=-1),\n",
      "...     axis=-1).squeeze(axis=-1)\n",
      "array([4, 3])\n",
      "\n",
      "Setting `keepdims` to `True`,\n",
      "\n",
      ">>> x = np.arange(24).reshape((2, 3, 4))\n",
      ">>> res = np.argmax(x, axis=1, keepdims=True)\n",
      ">>> res.shape\n",
      "(2, 1, 4)\n",
      "\u001b[31mClass docstring:\u001b[39m\n",
      "Class to wrap functions with checks for __array_function__ overrides.\n",
      "\n",
      "All arguments are required, and can only be passed by position.\n",
      "\n",
      "Parameters\n",
      "----------\n",
      "dispatcher : function or None\n",
      "    The dispatcher function that returns a single sequence-like object\n",
      "    of all arguments relevant.  It must have the same signature (except\n",
      "    the default values) as the actual implementation.\n",
      "    If ``None``, this is a ``like=`` dispatcher and the\n",
      "    ``_ArrayFunctionDispatcher`` must be called with ``like`` as the\n",
      "    first (additional and positional) argument.\n",
      "implementation : function\n",
      "    Function that implements the operation on NumPy arrays without\n",
      "    overrides.  Arguments passed calling the ``_ArrayFunctionDispatcher``\n",
      "    will be forwarded to this (and the ``dispatcher``) as if using\n",
      "    ``*args, **kwargs``.\n",
      "\n",
      "Attributes\n",
      "----------\n",
      "_implementation : function\n",
      "    The original implementation passed in."
     ]
    }
   ],
   "source": [
    "?np.argmax"
   ]
  },
  {
   "cell_type": "code",
   "execution_count": null,
   "id": "fe809667",
   "metadata": {},
   "outputs": [
    {
     "name": "stdout",
     "output_type": "stream",
     "text": [
      "(np.int64(3), np.int64(6))\n",
      "0.997655215995153\n"
     ]
    },
    {
     "data": {
      "image/png": "[encoded data removed]",
      "text/plain": [
       "<Figure size 640x480 with 2 Axes>"
      ]
     },
     "metadata": {},
     "output_type": "display_data"
    }
   ],
   "source": [
    "A = np.random.rand(10, 10)\n",
    "index = np.unravel_index(A.argmax(), A.shape)  # np.argmax(A, axis=True)\n",
    "print(index)\n",
    "print(A[index])\n",
    "\n",
    "fig, ax = plt.subplots()\n",
    "im = ax.matshow(A)\n",
    "fig.colorbar(im, ax=ax)\n",
    "plt.show()"
   ]
  },
  {
   "cell_type": "markdown",
   "id": "5e0c31ed",
   "metadata": {},
   "source": [
    "### Warning: Matrices modifications\n"
   ]
  },
  {
   "cell_type": "code",
   "execution_count": null,
   "id": "e7d028f4",
   "metadata": {},
   "outputs": [
    {
     "name": "stdout",
     "output_type": "stream",
     "text": [
      "[[10.  0.  0.  0.  0.]\n",
      " [ 0.  1.  0.  0.  0.]\n",
      " [ 0.  0.  1.  0.  0.]\n",
      " [ 0.  0.  0.  1.  0.]\n",
      " [ 0.  0.  0.  0.  1.]]\n",
      "Case1: A == B? False\n",
      "[[1. 0. 0. 0. 0.]\n",
      " [0. 1. 0. 0. 0.]\n",
      " [0. 0. 1. 0. 0.]\n",
      " [0. 0. 0. 1. 0.]\n",
      " [0. 0. 0. 0. 1.]]\n",
      "Case2: A == B? True\n",
      "[[1. 0. 0. 0. 0.]\n",
      " [0. 1. 0. 0. 0.]\n",
      " [0. 0. 1. 0. 0.]\n",
      " [0. 0. 0. 1. 0.]\n",
      " [0. 0. 0. 0. 1.]]\n",
      "Case3: A == B? True\n"
     ]
    }
   ],
   "source": [
    "# Case1: Asign an array and modify it afterwards\n",
    "A = np.eye(5)\n",
    "B = np.eye(5)\n",
    "C = A  # No hay que hacer\n",
    "C[0, 0] = 10\n",
    "print(A)\n",
    "# now, we'd like to check the equality of the two matrices\n",
    "# A == B is bad idea for floating point numbers\n",
    "# np.abs(A-B) < 1e-10 creates a boolean array ( |a_ij-b_ij| < 1e-10 )\n",
    "# np.all returns True if all entries are True\n",
    "print(\"Case1: A == B?\", np.all(np.abs(A - B) < 1e-10))\n",
    "\n",
    "# Case2: Copy an array\n",
    "A = np.eye(5)\n",
    "B = np.eye(5)\n",
    "C = A.copy()\n",
    "C[0, 0] = 10\n",
    "print(A)\n",
    "print(\"Case2: A == B?\", np.all(np.abs(A - B) < 1e-10))\n",
    "\n",
    "# Case3: Copy all entries\n",
    "A = np.eye(5)\n",
    "B = np.eye(5)\n",
    "C[:, :] = A[:, :]  # all elements\n",
    "print(A)\n",
    "C[0, 0] = 10\n",
    "print(\"Case3: A == B?\", np.all(np.abs(A - B) < 1e-10))"
   ]
  },
  {
   "cell_type": "markdown",
   "id": "64fce0e1",
   "metadata": {},
   "source": [
    "**What happens here?!**   \n",
    "Explanation:   \n",
    "For integers x=y means: The value of x is copied to y.  \n",
    "For large arrays, this copy may be very expensive. The matrix A is stored somewhere in memory. C=A means: Look at the same piece of memory. If you change C, A is changed too, since both (A and C) looking at the same piece of memory.\n",
    "To avoid this, A.copy() was introduced. This does a (maybe expensive) copy. Use copies wisely.\n",
    "\n",
    "For some reason, which are beyond of the scope of this course, C[:, :] = A[:, :] does a copy as well.\n",
    "\n"
   ]
  },
  {
   "cell_type": "code",
   "execution_count": null,
   "id": "b6067a36",
   "metadata": {},
   "outputs": [],
   "source": [
    "def create_id_matrix():\n",
    "    A = np.eye(5)\n",
    "    return A\n",
    "\n",
    "\n",
    "def some_matrix_mod(A):\n",
    "    A[0, 0] = 10.0\n",
    "    return A"
   ]
  },
  {
   "cell_type": "code",
   "execution_count": null,
   "id": "aa12c821",
   "metadata": {},
   "outputs": [
    {
     "name": "stdout",
     "output_type": "stream",
     "text": [
      "Case1:\n",
      " A == B? True\n",
      "Case2:\n",
      " A == B? False\n",
      "Case3:\n",
      " A == B? False\n",
      " A == C? True\n"
     ]
    }
   ],
   "source": [
    "# Case1: create an array via a function\n",
    "A = np.eye(5)\n",
    "B = create_id_matrix()\n",
    "print(\"Case1:\")\n",
    "print(\" A == B?\", np.all(np.abs(A - B) < 1e-10))\n",
    "\n",
    "# Case2: change an array inside a function\n",
    "A = np.random.rand(5, 5)  # has entries between 0 and 1\n",
    "B = A.copy()\n",
    "some_matrix_mod(A)\n",
    "print(\"Case2:\")\n",
    "print(\" A == B?\", np.all(np.abs(A - B) < 1e-10))\n",
    "\n",
    "# Case3: change the identity inside a function\n",
    "A = np.eye(5)\n",
    "B = A.copy()\n",
    "C = some_matrix_mod(A)\n",
    "print(\"Case3:\")\n",
    "print(\" A == B?\", np.all(np.abs(A - B) < 1e-10))\n",
    "print(\" A == C?\", np.all(np.abs(A - C) < 1e-10))"
   ]
  },
  {
   "cell_type": "markdown",
   "id": "be518aef",
   "metadata": {},
   "source": [
    "Weird, isn't it?\n",
    "\n",
    "Take home message: If you pass an array to a function, it will be edit inside. It can be always a source of errors."
   ]
  },
  {
   "cell_type": "markdown",
   "id": "552cec71",
   "metadata": {},
   "source": [
    "#### Exercise:\n",
    "\n",
    "Predict the behavior of the following functions:"
   ]
  },
  {
   "cell_type": "code",
   "execution_count": null,
   "id": "a508b784",
   "metadata": {},
   "outputs": [],
   "source": [
    "# a save but slow way\n",
    "# therefore: please avoid this\n",
    "def some_matrix_mod2(D):\n",
    "    E = D.copy()\n",
    "    E[0, :] = 10\n",
    "    return E\n",
    "\n",
    "\n",
    "def some_matrix_mod3(D):\n",
    "    E = D.copy()\n",
    "    D[-1, -1] = 3\n",
    "    return E\n",
    "\n",
    "\n",
    "def some_matrix_mod4(D):\n",
    "    E = D[:, :]\n",
    "    D[0, 0] = 3\n",
    "    return E"
   ]
  },
  {
   "cell_type": "code",
   "execution_count": null,
   "id": "d21b931a",
   "metadata": {},
   "outputs": [
    {
     "name": "stdout",
     "output_type": "stream",
     "text": [
      "[False, False, False]\n"
     ]
    }
   ],
   "source": [
    "# Your prediction (please modify this):\n",
    "pred_A_equal_B = [False, False, False]\n",
    "print(pred_A_equal_B)\n",
    "pred_returns_equal_A = [False, False, False]"
   ]
  },
  {
   "cell_type": "markdown",
   "id": "c103444a",
   "metadata": {},
   "source": [
    "Please execute the cell above with your input.\n",
    "Now, check it:"
   ]
  },
  {
   "cell_type": "code",
   "execution_count": null,
   "id": "0419cbd5",
   "metadata": {},
   "outputs": [
    {
     "name": "stdout",
     "output_type": "stream",
     "text": [
      "Please enter your predictions\n"
     ]
    }
   ],
   "source": [
    "# Array of functions\n",
    "mat_mods = [some_matrix_mod2, some_matrix_mod3, some_matrix_mod4]\n",
    "\n",
    "if not np.any(pred_A_equal_B) and not np.any(pred_returns_equal_A):\n",
    "    print(\"Please enter your predictions\")\n",
    "else:\n",
    "    print(not pred_A_equal_B)\n",
    "    print(not pred_returns_equal_A)\n",
    "    # for loop over mat_mods; index i increases in parallel\n",
    "    for i, func in enumerate(mat_mods):\n",
    "        A = np.random.rand(5, 5)\n",
    "        B = A.copy()\n",
    "        C = func(A)\n",
    "        # A == B\n",
    "        is_A_equal_B = np.all(np.abs(A - B) < 1e-10)\n",
    "        # A == C\n",
    "        is_result_equal_A = np.all(np.abs(A - C) < 1e-10)\n",
    "        if (\n",
    "            is_A_equal_B == pred_A_equal_B[i]\n",
    "            and is_result_equal_A == pred_returns_equal_A[i]\n",
    "        ):\n",
    "            print(func, \"correct \")\n",
    "        else:\n",
    "            print(\n",
    "                \"please modify the prediction for\",\n",
    "                func,\n",
    "                \" and rerun this and the cell above\",\n",
    "            )"
   ]
  },
  {
   "cell_type": "code",
   "execution_count": 120,
   "id": "100a0e15",
   "metadata": {},
   "outputs": [
    {
     "data": {
      "text/plain": [
       "[False, False, False]"
      ]
     },
     "execution_count": 120,
     "metadata": {},
     "output_type": "execute_result"
    }
   ],
   "source": [
    "pred_A_equal_B"
   ]
  }
 ],
 "metadata": {
  "kernelspec": {
   "display_name": "Python 3",
   "language": "python",
   "name": "python3"
  },
  "language_info": {
   "codemirror_mode": {
    "name": "ipython",
    "version": 3
   },
   "file_extension": ".py",
   "mimetype": "text/x-python",
   "name": "python",
   "nbconvert_exporter": "python",
   "pygments_lexer": "ipython3",
   "version": "3.13.7"
  }
 },
 "nbformat": 4,
 "nbformat_minor": 5
}
