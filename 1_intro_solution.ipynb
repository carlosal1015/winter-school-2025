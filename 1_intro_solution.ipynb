{
 "cells": [
  {
   "cell_type": "markdown",
   "id": "914040ee",
   "metadata": {},
   "source": [
    "# Introduction to numpy and numerical linear algebra\n"
   ]
  },
  {
   "cell_type": "markdown",
   "id": "13611029",
   "metadata": {},
   "source": [
    "First import the most important modules"
   ]
  },
  {
   "cell_type": "code",
   "execution_count": 1,
   "id": "e720de16",
   "metadata": {},
   "outputs": [],
   "source": [
    "import time\n",
    "\n",
    "import matplotlib.pyplot as plt\n",
    "import numpy as np"
   ]
  },
  {
   "cell_type": "markdown",
   "id": "547b8f4e",
   "metadata": {},
   "source": [
    "## Numpy arrays\n",
    "The main advantage of numpy is arrays. It's a way to add / subtract / multiply / ... many numbers in one line."
   ]
  },
  {
   "cell_type": "markdown",
   "id": "91589b96",
   "metadata": {},
   "source": [
    "### Creation of arrays\n",
    "There are many ways to create arrays, the most important one are listed below"
   ]
  },
  {
   "cell_type": "code",
   "execution_count": null,
   "id": "3c7b52a9",
   "metadata": {},
   "outputs": [
    {
     "name": "stdout",
     "output_type": "stream",
     "text": [
      "[1 2 3]\n",
      "<class 'numpy.ndarray'>\n",
      "[0. 0. 0. 0. 0.]\n",
      "[ 0.   2.5  5.   7.5 10. ]\n",
      "[0 2 4 6 8]\n"
     ]
    }
   ],
   "source": [
    "# create numpy array from a python list\n",
    "a = np.array([1, 2, 3])\n",
    "print(a)\n",
    "print(type(a))\n",
    "\n",
    "# create numpy array with zeros\n",
    "b = np.zeros(5)\n",
    "print(b)\n",
    "\n",
    "# create numpy array with equal spacing\n",
    "c = np.linspace(0, 10, 5)  # start stop steps\n",
    "print(c)\n",
    "# or\n",
    "c = np.arange(0, 10, 2)  # start stop stepzise\n",
    "print(c)"
   ]
  },
  {
   "cell_type": "markdown",
   "id": "48baa6f4",
   "metadata": {},
   "source": [
    "Multidimensional arrays are possible, too."
   ]
  },
  {
   "cell_type": "code",
   "execution_count": null,
   "id": "3d9989d4",
   "metadata": {},
   "outputs": [
    {
     "name": "stdout",
     "output_type": "stream",
     "text": [
      "[[1 2 3]\n",
      " [4 5 6]\n",
      " [7 8 9]]\n",
      "(3, 3)\n",
      "[[0. 0. 0.]\n",
      " [0. 0. 0.]\n",
      " [0. 0. 0.]]\n"
     ]
    }
   ],
   "source": [
    "# create 2d array\n",
    "d = np.array([[1, 2, 3], [4, 5, 6], [7, 8, 9]])\n",
    "print(d)\n",
    "print(d.shape)  # shows the dimensions of the array\n",
    "\n",
    "# or 2d zeros\n",
    "e = np.zeros((3, 3))\n",
    "print(e)"
   ]
  },
  {
   "cell_type": "markdown",
   "id": "ee8921ae",
   "metadata": {},
   "source": [
    "### Access and slicing\n",
    "\n",
    "We can of course also modify the entries of an array:"
   ]
  },
  {
   "cell_type": "code",
   "execution_count": null,
   "id": "200c4e5d",
   "metadata": {},
   "outputs": [
    {
     "name": "stdout",
     "output_type": "stream",
     "text": [
      "before [1 2 3]\n",
      "after [10  2  3]\n",
      "last element 3\n",
      "2\n"
     ]
    }
   ],
   "source": [
    "a = np.array([1, 2, 3])\n",
    "print(\"before\", a)\n",
    "a[0] = 10  # access first element and set it to 10\n",
    "print(\"after\", a)\n",
    "print(\"last element\", a[-1])\n",
    "\n",
    "b = np.array([[1, 2, 3], [4, 5, 6], [7, 8, 9]])\n",
    "print(b[0, 1])  # access element in the first row, second column"
   ]
  },
  {
   "cell_type": "markdown",
   "id": "bfedf89a",
   "metadata": {},
   "source": [
    "Another nice feature of numpy is *slicing*, which allows accessing ranges of arrays.\n",
    "We can use the \":\" operator for this, which takes up to three parameters `i:j:k`, denoting the start index, stop index, and step size."
   ]
  },
  {
   "cell_type": "code",
   "execution_count": null,
   "id": "6f95dab9",
   "metadata": {},
   "outputs": [
    {
     "name": "stdout",
     "output_type": "stream",
     "text": [
      "[2]\n",
      "[2 3]\n",
      "[2 5 8]\n",
      "[4 5 6]\n"
     ]
    }
   ],
   "source": [
    "print(a[1:2])  # Note that the index j itself is not printed\n",
    "print(a[1:])\n",
    "# or in higher dimensions\n",
    "print(b[:, 1])  # access all rows, second column\n",
    "print(b[1, :])  # access second row, all columns"
   ]
  },
  {
   "cell_type": "markdown",
   "id": "75d32d11",
   "metadata": {},
   "source": [
    "#### Exercises\n",
    "\n",
    "1. Create an array with times steps between 0, 0.01, 0.02, 0.03 ... 1\n",
    "    - Print from this the numbers 0.5, 0.51,...,0.56 \n",
    "2. Create a 3x3 array with the numbers from 1-9. (.reshape may help...)\n",
    "    - Print the second column, and the second row\n",
    "    - Change the number in the middle to 55\n",
    "    - Print the 2nd row and column again\n"
   ]
  },
  {
   "cell_type": "markdown",
   "id": "c80a6f0c",
   "metadata": {},
   "source": [
    "#### Solutions"
   ]
  },
  {
   "cell_type": "code",
   "execution_count": null,
   "id": "73d37e23",
   "metadata": {},
   "outputs": [
    {
     "name": "stdout",
     "output_type": "stream",
     "text": [
      "Ex1\n",
      " [0.5  0.51 0.52 0.53 0.54 0.55 0.56]\n",
      "Ex2\n",
      " [[0 1 2]\n",
      " [3 4 5]\n",
      " [6 7 8]]\n",
      "[1 4 7] [3 4 5]\n",
      "[ 1 55  7] [ 3 55  5]\n"
     ]
    }
   ],
   "source": [
    "# 1\n",
    "a = np.linspace(0, 1, 101)\n",
    "print(\"Ex1\\n\", a[50:57])\n",
    "# 2\n",
    "b = np.arange(0, 9).reshape(3, 3)\n",
    "print(\"Ex2\\n\", b)\n",
    "print(b[:, 1], b[1, :])\n",
    "b[1, 1] = 55\n",
    "print(b[:, 1], b[1, :])"
   ]
  },
  {
   "cell_type": "markdown",
   "id": "a93d041a",
   "metadata": {},
   "source": [
    "### Basic arithmetics and functions\n",
    "\n",
    "You can add, multiply, ... arrays like normal numbers, if the other element is\n",
    "\n",
    "- a scalar\n",
    "- an array of same size"
   ]
  },
  {
   "cell_type": "code",
   "execution_count": null,
   "id": "baca1505",
   "metadata": {},
   "outputs": [
    {
     "name": "stdout",
     "output_type": "stream",
     "text": [
      "a [ 0.   2.5  5.   7.5 10. ]\n",
      "3a+1 [ 1.   8.5 16.  23.5 31. ]\n",
      "a^2-b [-1.   -2.25  9.   32.75 69.  ]\n",
      "The sum of  [ 0.   2.5  5.   7.5 10. ] is  25.0\n"
     ]
    }
   ],
   "source": [
    "a = np.linspace(0, 10, 5)\n",
    "print(\"a\", a)\n",
    "b = 3 * a + 1\n",
    "print(\"3a+1\", b)\n",
    "print(\"a^2-b\", a**2 - b)\n",
    "print(\"The sum of \", a, \"is \", np.sum(a))"
   ]
  },
  {
   "cell_type": "markdown",
   "id": "13b310df",
   "metadata": {},
   "source": [
    "This works for functions as well:"
   ]
  },
  {
   "cell_type": "code",
   "execution_count": null,
   "id": "01c4b6a0",
   "metadata": {},
   "outputs": [
    {
     "data": {
      "image/png": "[encoded data removed]",
      "text/plain": [
       "<Figure size 640x480 with 1 Axes>"
      ]
     },
     "metadata": {},
     "output_type": "display_data"
    }
   ],
   "source": [
    "times = np.linspace(0, 2 * np.pi, 100)\n",
    "signal = np.sin(times)\n",
    "\n",
    "plt.plot(times, signal, label=\"sin(t)\")\n",
    "plt.title(\"A wonderful plot\")\n",
    "plt.xlabel(\"t\")\n",
    "plt.ylabel(\"signal\")\n",
    "plt.legend()\n",
    "plt.show()"
   ]
  },
  {
   "cell_type": "markdown",
   "id": "f7ae60a2",
   "metadata": {},
   "source": [
    "#### Exercises\n",
    "\n",
    "1. Calculate the scalar product of the vectors (1,2,3) and (3,2,1)\n",
    "2. Plot the functions $x^2 $ and $ \\sqrt{x^2 +1}$ from -1 to 1\n",
    "    - Add a title and a legend to the plot"
   ]
  },
  {
   "cell_type": "markdown",
   "id": "a3b466a3",
   "metadata": {},
   "source": [
    "#### Solution"
   ]
  },
  {
   "cell_type": "code",
   "execution_count": null,
   "id": "f2c1c6a9",
   "metadata": {},
   "outputs": [
    {
     "name": "stdout",
     "output_type": "stream",
     "text": [
      "4\n"
     ]
    },
    {
     "data": {
      "text/plain": [
       "Text(0.5, 1.0, 'some functions')"
      ]
     },
     "execution_count": 9,
     "metadata": {},
     "output_type": "execute_result"
    },
    {
     "data": {
      "image/png": "[encoded data removed]",
      "text/plain": [
       "<Figure size 640x480 with 1 Axes>"
      ]
     },
     "metadata": {},
     "output_type": "display_data"
    }
   ],
   "source": [
    "# 1\n",
    "a = np.arange(1, 3)\n",
    "scal_prod = np.sum(a * a[::-1])\n",
    "print(scal_prod)\n",
    "\n",
    "# 2\n",
    "x = np.linspace(-1, 1, 100)\n",
    "plt.plot(x, x * x, label=\"x^2\")\n",
    "plt.plot(x, np.sqrt(1 + x * x), label=\"sqrt(1+x^2)\")\n",
    "plt.legend()\n",
    "plt.title(\"some functions\")"
   ]
  },
  {
   "cell_type": "markdown",
   "id": "6b1410a5",
   "metadata": {},
   "source": [
    "### Vectors and matrices\n",
    "Of course, we can use matrices and vectors as well.\n"
   ]
  },
  {
   "cell_type": "code",
   "execution_count": null,
   "id": "16d5531f",
   "metadata": {},
   "outputs": [
    {
     "data": {
      "image/png": "[encoded data removed]",
      "text/plain": [
       "<Figure size 1500x500 with 4 Axes>"
      ]
     },
     "metadata": {},
     "output_type": "display_data"
    }
   ],
   "source": [
    "# create a 5x5 identity matrix\n",
    "A = np.eye(5)\n",
    "# modify the matrix\n",
    "A[:, 3] = 1\n",
    "A[3, :] = -1\n",
    "# create a random vector\n",
    "v = np.random.rand(5)\n",
    "\n",
    "# calculate matrix vector multiplication A*v\n",
    "w = A @ v\n",
    "# or in pictures\n",
    "fig, ax = plt.subplots(1, 3, figsize=(15, 5))\n",
    "im = ax[0].matshow(A)\n",
    "ax[0].set_title(\"A\")\n",
    "ax[1].matshow(v.reshape(5, 1))  # matshow expects a 2d array\n",
    "ax[1].set_title(\"v\")\n",
    "ax[2].matshow(w.reshape(5, 1))\n",
    "ax[2].set_title(\"A*v\")\n",
    "fig.colorbar(im, ax=ax)\n",
    "plt.show()"
   ]
  },
  {
   "cell_type": "markdown",
   "id": "c566c72c",
   "metadata": {},
   "source": [
    "Another handy function is called `np.diag`, which can be used to operate on diagonals of arrays."
   ]
  },
  {
   "cell_type": "code",
   "execution_count": null,
   "id": "ee8bd09c",
   "metadata": {},
   "outputs": [
    {
     "name": "stdout",
     "output_type": "stream",
     "text": [
      "[1. 1. 1. 1. 1.]\n",
      "[0.72057853 0.04128844 0.68356289 0.54174946 0.47420275]\n"
     ]
    },
    {
     "data": {
      "text/plain": [
       "<matplotlib.colorbar.Colorbar at 0x71be0f589590>"
      ]
     },
     "execution_count": 11,
     "metadata": {},
     "output_type": "execute_result"
    },
    {
     "data": {
      "image/png": "[encoded data removed]",
      "text/plain": [
       "<Figure size 1000x500 with 3 Axes>"
      ]
     },
     "metadata": {},
     "output_type": "display_data"
    }
   ],
   "source": [
    "A = np.eye(5)\n",
    "print(np.diag(A))\n",
    "v = np.random.rand(5)\n",
    "print(v)\n",
    "\n",
    "fig, ax = plt.subplots(1, 2, figsize=(10, 5))\n",
    "ax[0].matshow(np.diag(v))\n",
    "im = ax[1].matshow(np.diag(v[:-1], k=1))\n",
    "fig.colorbar(im, ax=ax)"
   ]
  },
  {
   "cell_type": "markdown",
   "id": "168748a5",
   "metadata": {},
   "source": [
    "#### Exercises\n",
    "\n",
    "1. Create a random 5x5 Matrix\n",
    "    - Plot this matrix\n",
    "2. Create tridiagonal matrix, which has 2 on its diagonal and -1 on both first off diagonals.\n",
    "    - Apply this matrix to the vector `(0,0,1,0,0)`"
   ]
  },
  {
   "cell_type": "markdown",
   "id": "e6273459",
   "metadata": {},
   "source": [
    "#### Solution"
   ]
  },
  {
   "cell_type": "code",
   "execution_count": null,
   "id": "32937ae8",
   "metadata": {},
   "outputs": [
    {
     "name": "stdout",
     "output_type": "stream",
     "text": [
      "[ 0. -1.  2. -1.  0.]\n"
     ]
    },
    {
     "data": {
      "image/png": "[encoded data removed]",
      "text/plain": [
       "<Figure size 480x480 with 1 Axes>"
      ]
     },
     "metadata": {},
     "output_type": "display_data"
    }
   ],
   "source": [
    "# 1\n",
    "A = np.random.rand(5, 5)\n",
    "plt.matshow(A)\n",
    "\n",
    "# 2\n",
    "ones = np.ones(5)\n",
    "B = 2 * np.diag(ones) - np.diag(ones[1:], k=1) - np.diag(ones[:-1], k=-1)\n",
    "v2 = np.zeros(5)\n",
    "v2[2] = 1\n",
    "print(B @ v2)"
   ]
  },
  {
   "cell_type": "markdown",
   "id": "8202f37b",
   "metadata": {},
   "source": [
    "### For loops\n",
    "\n",
    "Let's compare the speed of matrix-vector multiplication in numpy with a simple for-loop."
   ]
  },
  {
   "cell_type": "code",
   "execution_count": null,
   "id": "6c7f84cf",
   "metadata": {},
   "outputs": [
    {
     "name": "stdout",
     "output_type": "stream",
     "text": [
      "Time required by numpy: 0.0004794597625732422\n",
      "Time required by standard for loop: 0.19985175132751465\n",
      "numpy is 416.8269517652909 times faster!\n"
     ]
    }
   ],
   "source": [
    "n = 1000\n",
    "A = np.eye(n)\n",
    "v = np.linspace(0, 1, n)\n",
    "time_np_start = time.time()\n",
    "w = A @ v\n",
    "time_np_end = time.time()\n",
    "time_np = time_np_end - time_np_start\n",
    "\n",
    "time_for_loop_start = time.time()\n",
    "w = np.zeros(n)\n",
    "for i in range(n):\n",
    "    for j in range(n):\n",
    "        w[i] = A[i, j] * v[j]\n",
    "time_for_loop_end = time.time()\n",
    "time_for_loop = time_for_loop_end - time_for_loop_start\n",
    "\n",
    "print(\"Time required by numpy:\", time_np)\n",
    "print(\"Time required by standard for loop:\", time_for_loop)\n",
    "print(\"numpy is\", time_for_loop / time_np, \"times faster!\")"
   ]
  },
  {
   "cell_type": "markdown",
   "id": "c81e7d11",
   "metadata": {},
   "source": [
    "It is good to keep this in mind!"
   ]
  },
  {
   "cell_type": "markdown",
   "id": "576248dd",
   "metadata": {},
   "source": [
    "### Masking\n",
    "Masking is the possibility to select entries of an array by a given array of Booleans or integers"
   ]
  },
  {
   "cell_type": "markdown",
   "id": "1559f181",
   "metadata": {},
   "source": [
    "Execute the next Cell several times"
   ]
  },
  {
   "cell_type": "code",
   "execution_count": null,
   "id": "dd83a968",
   "metadata": {},
   "outputs": [
    {
     "name": "stdout",
     "output_type": "stream",
     "text": [
      "[0.   0.25 0.5  0.75 1.  ]\n",
      "[False False False  True  True]\n",
      "[0.75 1.  ]\n",
      "[3 4]\n",
      "random vector [0.91694354 0.33804247 0.68297681 0.78394407 0.84557605]\n",
      "sorted random vector [0.33804247 0.68297681 0.78394407 0.84557605 0.91694354]\n",
      "random order [0.25 0.5  0.75 1.   0.  ] with order [1 2 3 4 0]\n"
     ]
    }
   ],
   "source": [
    "n = 5\n",
    "v = np.linspace(0, 1, n)\n",
    "# create array of Booleans\n",
    "mask = v > 0.5\n",
    "print(v)\n",
    "print(mask)\n",
    "# print only the selction\n",
    "print(v[mask])\n",
    "# print  the indices\n",
    "print(np.where(v > 0.5)[0])\n",
    "\n",
    "# let's create a random order of this vector\n",
    "w = np.random.rand(n)\n",
    "mask2 = np.argsort(w)\n",
    "print(\"random vector\", w)\n",
    "print(\"sorted random vector\", w[mask2])\n",
    "print(\"random order\", v[mask2], \"with order\", mask2)"
   ]
  },
  {
   "cell_type": "markdown",
   "id": "61db3187",
   "metadata": {},
   "source": [
    "#### Exercises\n",
    "\n",
    "1. Create a random 10 by 10 matrix\n",
    "    - Plot the matrix\n",
    "    - Print the position and the maximal value (argmax)\n",
    "    - Bonus for fast people (Is it before 14:20?)"
   ]
  },
  {
   "cell_type": "markdown",
   "id": "5e0c31ed",
   "metadata": {},
   "source": [
    "### Warning: Matrix modifications"
   ]
  },
  {
   "cell_type": "code",
   "execution_count": null,
   "id": "e7d028f4",
   "metadata": {},
   "outputs": [
    {
     "name": "stdout",
     "output_type": "stream",
     "text": [
      "Case1: A == B? False\n",
      "Case2: A == B? True\n",
      "Case3: A == B? True\n"
     ]
    }
   ],
   "source": [
    "# Case1: Assign an array and modify it afterwards\n",
    "A = np.eye(5)\n",
    "B = np.eye(5)\n",
    "C = A\n",
    "C[0, 0] = 10\n",
    "# now, we'd like to check the equality of the two matrices\n",
    "# A == B is bad idea for floating point numbers\n",
    "# np.abs(A-B) < 1e-10 creates a boolean array ( |a_ij-b_ij| < 1e-10 )\n",
    "# np.all returns True if all entries are True\n",
    "print(\"Case1: A == B?\", np.all(np.abs(A - B) < 1e-10))\n",
    "\n",
    "# Case2: Copy an array\n",
    "A = np.eye(5)\n",
    "B = np.eye(5)\n",
    "C = A.copy()\n",
    "C[0, 0] = 10\n",
    "print(\"Case2: A == B?\", np.all(np.abs(A - B) < 1e-10))\n",
    "\n",
    "# Case3: Copy all entries\n",
    "A = np.eye(5)\n",
    "B = np.eye(5)\n",
    "C[:, :] = A[:, :]  # all elements\n",
    "C[0, 0] = 10\n",
    "print(\"Case3: A == B?\", np.all(np.abs(A - B) < 1e-10))"
   ]
  },
  {
   "cell_type": "markdown",
   "id": "64fce0e1",
   "metadata": {},
   "source": [
    "**What happens here?!**\n",
    "\n",
    "Explanation:   \n",
    "\n",
    "For integers, `x=y` means: The value of `x` is copied to `y`. For large arrays, this copy can get very expensive, as we would require double the storage in memory, even if we only changed one value.\n",
    "Therefore, this is usually avoided and if we run `C=A`, this simply tells the program: \"If someone wants to use `C`, look at the place in memory where `A` is stored\". So both `A` and `C` point to the same block of memory. Consequently, modifying `C` also changes the values of `A`.\n",
    "\n",
    "To avoid this, `A.copy()` was introduced. This does a (potentially expensive) copy, for situations where this is actually requierd. So make sure to use copies wisely.\n",
    "\n",
    "Let's look at this a little further:"
   ]
  },
  {
   "cell_type": "code",
   "execution_count": null,
   "id": "b6067a36",
   "metadata": {},
   "outputs": [],
   "source": [
    "def create_id_matrix():\n",
    "    A = np.eye(5)\n",
    "    return A\n",
    "\n",
    "\n",
    "def some_matrix_mod(A):\n",
    "    A[0, 0] = 10.0\n",
    "    return A"
   ]
  },
  {
   "cell_type": "code",
   "execution_count": null,
   "id": "aa12c821",
   "metadata": {},
   "outputs": [
    {
     "name": "stdout",
     "output_type": "stream",
     "text": [
      "Case1:\n",
      " A == B? True\n",
      "Case2:\n",
      " A == B? False\n",
      "Case3:\n",
      " A == B? False\n",
      " A == C? True\n"
     ]
    }
   ],
   "source": [
    "# Case1: create an array via a function\n",
    "A = np.eye(5)\n",
    "B = create_id_matrix()\n",
    "print(\"Case1:\")\n",
    "print(\" A == B?\", np.all(np.abs(A - B) < 1e-10))\n",
    "\n",
    "# Case2: change an array inside a function\n",
    "A = np.random.rand(5, 5)  # has entries between 0 and 1\n",
    "B = A.copy()\n",
    "some_matrix_mod(A)\n",
    "print(\"Case2:\")\n",
    "print(\" A == B?\", np.all(np.abs(A - B) < 1e-10))\n",
    "\n",
    "# Case3: change the identity inside a function\n",
    "A = np.eye(5)\n",
    "B = A.copy()\n",
    "C = some_matrix_mod(A)\n",
    "print(\"Case3:\")\n",
    "print(\" A == B?\", np.all(np.abs(A - B) < 1e-10))\n",
    "print(\" A == C?\", np.all(np.abs(A - C) < 1e-10))"
   ]
  },
  {
   "cell_type": "markdown",
   "id": "be518aef",
   "metadata": {},
   "source": [
    "Weird, isn't it?\n",
    "\n",
    "Take-home message: If you pass an array to a function, the function will edit the original array. This can be a common source of errors."
   ]
  },
  {
   "cell_type": "markdown",
   "id": "552cec71",
   "metadata": {},
   "source": [
    "#### Exercise:\n",
    "\n",
    "Predict the behavior of the following functions:"
   ]
  },
  {
   "cell_type": "code",
   "execution_count": null,
   "id": "a508b784",
   "metadata": {},
   "outputs": [],
   "source": [
    "# a safe, but slow method\n",
    "# therefore: please avoid this\n",
    "def some_matrix_mod2(D):\n",
    "    E = D.copy()\n",
    "    E[0, :] = 10\n",
    "    return E\n",
    "\n",
    "\n",
    "def some_matrix_mod3(D):\n",
    "    E = D.copy()\n",
    "    D[-1, -1] = 3\n",
    "    return E\n",
    "\n",
    "\n",
    "def some_matrix_mod4(D):\n",
    "    E = D[:, :]\n",
    "    D[0, 0] = 3\n",
    "    return E"
   ]
  },
  {
   "cell_type": "code",
   "execution_count": 19,
   "id": "d21b931a",
   "metadata": {},
   "outputs": [],
   "source": [
    "# Your prediction (please modify this):\n",
    "pred_A_equal_B = [False, False, False]\n",
    "pred_returns_equal_A = [False, False, False]"
   ]
  },
  {
   "cell_type": "markdown",
   "id": "c103444a",
   "metadata": {},
   "source": [
    "Please execute the cell above with your input\n",
    "Now, check it:"
   ]
  },
  {
   "cell_type": "code",
   "execution_count": null,
   "id": "0419cbd5",
   "metadata": {},
   "outputs": [
    {
     "name": "stdout",
     "output_type": "stream",
     "text": [
      "Please enter your predictions\n"
     ]
    }
   ],
   "source": [
    "# Array of functions\n",
    "mat_mods = [some_matrix_mod2, some_matrix_mod3, some_matrix_mod4]\n",
    "\n",
    "if not np.any(pred_A_equal_B) and not np.any(pred_returns_equal_A):\n",
    "    print(\"Please enter your predictions\")\n",
    "else:\n",
    "    print(not pred_A_equal_B)\n",
    "    print(not pred_returns_equal_A)\n",
    "    # for loop over mat_mods; index i increases in parallel\n",
    "    for i, func in enumerate(mat_mods):\n",
    "        A = np.random.rand(5, 5)\n",
    "        B = A.copy()\n",
    "        C = func(A)\n",
    "        # A == B\n",
    "        is_A_equal_B = np.all(np.abs(A - B) < 1e-10)\n",
    "        # A == C\n",
    "        is_result_equal_A = np.all(np.abs(A - C) < 1e-10)\n",
    "        if (\n",
    "            is_A_equal_B == pred_A_equal_B[i]\n",
    "            and is_result_equal_A == pred_returns_equal_A[i]\n",
    "        ):\n",
    "            print(func, \"correct \")\n",
    "        else:\n",
    "            print(\n",
    "                \"please modify the prediction for\",\n",
    "                func,\n",
    "                \" and rerun this and the cell above\",\n",
    "            )"
   ]
  },
  {
   "cell_type": "markdown",
   "id": "f26658ca",
   "metadata": {},
   "source": [
    "#### Solution:\n",
    "pred_A_equal_B = [True, False, False]  \n",
    "pred_returns_equal_A = [False, False, True]"
   ]
  }
 ],
 "metadata": {
  "kernelspec": {
   "display_name": "Python 3",
   "language": "python",
   "name": "python3"
  },
  "language_info": {
   "codemirror_mode": {
    "name": "ipython",
    "version": 3
   },
   "file_extension": ".py",
   "mimetype": "text/x-python",
   "name": "python",
   "nbconvert_exporter": "python",
   "pygments_lexer": "ipython3",
   "version": "3.13.7"
  }
 },
 "nbformat": 4,
 "nbformat_minor": 5
}
