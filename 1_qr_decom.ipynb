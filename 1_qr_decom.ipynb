{
 "cells": [
  {
   "cell_type": "markdown",
   "id": "7d2acab7",
   "metadata": {},
   "source": [
    "# Small System of Linear Equations"
   ]
  },
  {
   "cell_type": "code",
   "execution_count": 8,
   "id": "6fb00305",
   "metadata": {},
   "outputs": [],
   "source": [
    "import time\n",
    "\n",
    "import matplotlib.pyplot as plt\n",
    "import numpy as np\n",
    "import numpy.linalg as la"
   ]
  },
  {
   "cell_type": "markdown",
   "id": "5a042d04",
   "metadata": {},
   "source": [
    "## Orthogonal transformations\n",
    "Let us test the orthogonal transformations, about which we learn something this morning.\n",
    "We have $n$ vectors stored in a matrix $A$. \n",
    "\n",
    "### Gram-Schmidt orthogonalization\n",
    "\n",
    "EXERCISE: Implement the Gram-Schmidt orthogonalization.\n"
   ]
  },
  {
   "cell_type": "code",
   "execution_count": 36,
   "id": "b65410a4",
   "metadata": {},
   "outputs": [],
   "source": [
    "def gram_schmidt(A):\n",
    "    n = A.shape[0]\n",
    "    Q = np.empty_like(A)\n",
    "    Q[:, 0] = A[:, 0] / la.norm(A[:, 0])\n",
    "\n",
    "    for j in range(1, n):\n",
    "        v = A[:, j] - np.sum(np.dot(Q[:, i], A[:, j]) * Q[:, i] for i in range(j))\n",
    "        Q[:, j] = v / la.norm(v)\n",
    "\n",
    "    return Q"
   ]
  },
  {
   "cell_type": "code",
   "execution_count": null,
   "id": "a50c1419",
   "metadata": {},
   "outputs": [],
   "source": [
    "# https://math.science.cmu.ac.th/thaned/Amath789/Docs/StevenLeon_LAwithApps_ver8.pdf\n",
    "# https://raw.githubusercontent.com/stevenmwise/ClassicalNumericalAnalysis/refs/heads/main/codes/Chapter05/ModifiedGramSchmidt.m\n",
    "# https://raw.githubusercontent.com/stevenmwise/ClassicalNumericalAnalysis/refs/heads/main/codes/Chapter05/ClassicalGramSchmidt.m\n",
    "# https://www.youtube.com/watch?v=FAnNBw7d0vg"
   ]
  },
  {
   "cell_type": "markdown",
   "id": "02314e13",
   "metadata": {},
   "source": [
    "Let's test our function:    "
   ]
  },
  {
   "cell_type": "code",
   "execution_count": 42,
   "id": "6a0b5de0",
   "metadata": {},
   "outputs": [
    {
     "name": "stdout",
     "output_type": "stream",
     "text": [
      "[[ 0.85714286 -0.50160492  0.11704115]\n",
      " [ 0.42857143  0.56848557 -0.70224688]\n",
      " [ 0.28571429  0.65208639  0.70224688]]\n",
      "Q@Q.T == I? True\n",
      " The error is  6.161737786669619e-14\n"
     ]
    },
    {
     "name": "stderr",
     "output_type": "stream",
     "text": [
      "/tmp/ipykernel_13078/736698270.py:7: DeprecationWarning: Calling np.sum(generator) is deprecated, and in the future will give a different result. Use np.sum(np.fromiter(generator)) or the python sum builtin instead.\n",
      "  v = A[:, j] - np.sum(np.dot(Q[:, i], A[:, j]) * Q[:, i] for i in range(j))\n"
     ]
    }
   ],
   "source": [
    "a1 = np.array([1, 1 / 2, 1 / 3])\n",
    "a2 = np.array([1 / 2, 1 / 3, 1 / 4])\n",
    "a3 = np.array([1 / 3, 1 / 4, 1 / 5])\n",
    "A = np.column_stack([a1, a2, a3])\n",
    "Q = gram_schmidt(A)\n",
    "print(Q)\n",
    "error_gs = np.max(np.abs(Q @ Q.T - np.eye(3)))\n",
    "print(\"Q@Q.T == I?\", np.all(np.abs(Q @ Q.T - np.eye(3)) < 1e-10))\n",
    "print(\" The error is \", error_gs)"
   ]
  },
  {
   "cell_type": "code",
   "execution_count": 38,
   "id": "ab5535d9",
   "metadata": {},
   "outputs": [
    {
     "name": "stdout",
     "output_type": "stream",
     "text": [
      "Q@Q.T == I? True\n",
      " The error is  2.1094237467877974e-15\n"
     ]
    },
    {
     "name": "stderr",
     "output_type": "stream",
     "text": [
      "/tmp/ipykernel_13078/736698270.py:7: DeprecationWarning: Calling np.sum(generator) is deprecated, and in the future will give a different result. Use np.sum(np.fromiter(generator)) or the python sum builtin instead.\n",
      "  v = A[:, j] - np.sum(np.dot(Q[:, i], A[:, j]) * Q[:, i] for i in range(j))\n"
     ]
    }
   ],
   "source": [
    "# Create a random matrix\n",
    "n = 5\n",
    "A = np.random.random((n, n))\n",
    "\n",
    "Q = gram_schmidt(A)\n",
    "# Q, R = la.qr(A)\n",
    "error_gs = np.max(np.abs(Q @ Q.T - np.eye(n)))\n",
    "print(\"Q@Q.T == I?\", np.all(np.abs(Q @ Q.T - np.eye(n)) < 1e-10))\n",
    "print(\" The error is \", error_gs)"
   ]
  },
  {
   "cell_type": "markdown",
   "id": "6ddc0d28",
   "metadata": {},
   "source": [
    "Oh, nice! The error is small enough. So what's the problem?\n",
    "\n",
    "\n",
    "The functions $$f_k(x) = {\\sin( (k+1)/k\\cdot  x)}\\qquad k \\in {1,\\dots, n} $$ are linearly independent. We discretize them on the interval [0, 1] with $x_i = i/n $ for $ i \\in {1,\\dots, n}$.    \n",
    "\n",
    "EXERCISE: Implemtent these functions, such they are returned as a matrix $ A[k,i] = f_k(x_i)$ ."
   ]
  },
  {
   "cell_type": "code",
   "execution_count": null,
   "id": "d363e60a",
   "metadata": {},
   "outputs": [],
   "source": [
    "def almost_colinear_matrix(n):\n",
    "    A = np.zeros((n, n))\n",
    "    # HERE your code\n",
    "    return A"
   ]
  },
  {
   "cell_type": "markdown",
   "id": "9fff5b25",
   "metadata": {},
   "source": [
    "Let's take a look at these functions:"
   ]
  },
  {
   "cell_type": "code",
   "execution_count": null,
   "id": "ab5c392b",
   "metadata": {},
   "outputs": [],
   "source": [
    "n = 4\n",
    "x = np.arange(1, n + 1) / n\n",
    "A = almost_colinear_matrix(n)\n",
    "\n",
    "for k in range(n):\n",
    "    plt.plot(x, A[k, :], label=\"k={}\".format(k))\n",
    "plt.title(\"sin((k+1)/k x)\")\n",
    "plt.xlabel(\"x\")\n",
    "plt.xlim(0, 1)\n",
    "plt.ylim(0, 1)\n",
    "plt.legend()"
   ]
  },
  {
   "cell_type": "code",
   "execution_count": null,
   "id": "0242957e",
   "metadata": {},
   "outputs": [],
   "source": [
    "n = 5\n",
    "A = almost_colinear_matrix(n)\n",
    "\n",
    "Q = gram_schmidt(A)\n",
    "error_gs = np.max(np.abs(Q @ Q.T - np.eye(n)))\n",
    "print(\"Q@Q.T == I?\", np.all(np.abs(Q @ Q.T - np.eye(n)) < 1e-10))\n",
    "print(\" The error is \", error_gs)"
   ]
  },
  {
   "cell_type": "markdown",
   "id": "4ef9632a",
   "metadata": {},
   "source": [
    "Oh, no! We had only five dimensions..."
   ]
  },
  {
   "cell_type": "markdown",
   "id": "192335f2",
   "metadata": {},
   "source": [
    "### Modified Gram-Schmidt\n",
    "Let us reduce the error, by implementing the Modified Gram-Schmidt method."
   ]
  },
  {
   "cell_type": "code",
   "execution_count": 7,
   "id": "d4a8516e",
   "metadata": {},
   "outputs": [],
   "source": [
    "def mod_gram_schmidt(A):\n",
    "    n = A.shape[0]\n",
    "    Q = A.copy()\n",
    "\n",
    "    return Q"
   ]
  },
  {
   "cell_type": "markdown",
   "id": "d607f1d5",
   "metadata": {},
   "source": [
    "Let's check the implementation: "
   ]
  },
  {
   "cell_type": "code",
   "execution_count": null,
   "id": "09e2e3bb",
   "metadata": {},
   "outputs": [],
   "source": [
    "n = 5\n",
    "\n",
    "# first, using a \"good\" matrix\n",
    "print(\"good Matrix:\")\n",
    "A = np.random.random((n, n))\n",
    "\n",
    "Q = mod_gram_schmidt(A)\n",
    "error_gs = np.max(np.abs(Q @ Q.T - np.eye(n)))\n",
    "print(\"Q@Q.T == I?\", np.all(np.abs(Q @ Q.T - np.eye(n)) < 1e-10))\n",
    "print(\" The error is \", error_gs)\n",
    "\n",
    "\n",
    "print(\"\\ncolinear Matrix:\")\n",
    "A = almost_colinear_matrix(n)\n",
    "Q = mod_gram_schmidt(A)\n",
    "error_gs = np.max(np.abs(Q @ Q.T - np.eye(n)))\n",
    "print(\"Q@Q.T == I?\", np.all(np.abs(Q @ Q.T - np.eye(n)) < 1e-10))\n",
    "print(\" The error is \", error_gs)"
   ]
  },
  {
   "cell_type": "markdown",
   "id": "cab78303",
   "metadata": {},
   "source": [
    "Nice! It's better than Gram-Schmidt. But larger n, the error increases rapidly (try it out). Let's use the matrix of the lecture."
   ]
  },
  {
   "cell_type": "code",
   "execution_count": null,
   "id": "95771264",
   "metadata": {},
   "outputs": [],
   "source": [
    "def hilbert_matrix(n):\n",
    "    A = np.zeros((n, n))\n",
    "    for i in range(n):\n",
    "        for j in range(n):\n",
    "            A[i, j] = 1 / (i + j + 1)\n",
    "    return A"
   ]
  },
  {
   "cell_type": "code",
   "execution_count": null,
   "id": "1f809f7c",
   "metadata": {},
   "outputs": [],
   "source": [
    "n = 9\n",
    "A = hilbert_matrix(n)\n",
    "\n",
    "Q = mod_gram_schmidt(A)\n",
    "error_gs = np.max(np.abs(Q @ Q.T - np.eye(n)))\n",
    "print(\"Q@Q.T == I?\", np.all(np.abs(Q @ Q.T - np.eye(n)) < 1e-10))\n",
    "print(\" The error is \", error_gs)"
   ]
  },
  {
   "cell_type": "markdown",
   "id": "925eed06",
   "metadata": {},
   "source": [
    "Not what'd like to see, or?"
   ]
  },
  {
   "cell_type": "markdown",
   "id": "52678ab2",
   "metadata": {},
   "source": [
    "\n",
    "\n",
    "$sign(v_1)$ is the sign of the first component. In the case, $v_1=0$ we choose sign=1. We calculate: $$ v_1 = v_1 + sign(v_1) \\|v\\|_2 $$\n",
    "and  \n",
    "\n",
    "$$Q_v = Id - 2 \\cdot \\frac{v v^T}{v^Tv} = Id -2 w w^T, $$\n",
    "\n",
    "where $w = v/|v\\|_2$.   \n"
   ]
  },
  {
   "cell_type": "markdown",
   "id": "cfca3b26",
   "metadata": {},
   "source": [
    "### Householder reflection\n",
    "Recall from the lecture this morning:  \n",
    "$sign(v_1)$ is the sign of the first component. In the case, $v_1=0$ we choose sign=1. We calculate: $$ v_1 = v_1 + sign(v_1) \\|v\\|_2 $$\n",
    "and  \n",
    "\n",
    "$$Q_v = Id - 2 \\cdot \\frac{v v^T}{v^Tv} = Id -2 w w^T, $$\n",
    "\n",
    "where $w = v/|v\\|_2$.   \n",
    "The new entry of the diagonal will be $\\alpha =  sign(v_1) \\|v\\|_2$\n",
    "\n",
    "\n",
    "\n",
    "EXERCISE: Complete the function, that creates the Householder Matrix.\n"
   ]
  },
  {
   "cell_type": "code",
   "execution_count": null,
   "id": "e01e93cf",
   "metadata": {},
   "outputs": [],
   "source": [
    "def Householder_matrix(v, return_diag_entry=False):\n",
    "    # Create Matrix Q_v as described above.\n",
    "    # INPUT: v 1d-array or 2d-array with one column or one row\n",
    "    # OUPUT: Q Householdermatrix of v, if return_diag_entry is set, it returns alpha.\n",
    "\n",
    "    v = v.copy()  # do not overwrite original matrix\n",
    "    n = len(v)\n",
    "    v = v.reshape(\n",
    "        (n)\n",
    "    )  # reshape, because tensorprod gives different results for (n) and (n,1) dimension\n",
    "    diag_entry = 0\n",
    "\n",
    "    # HERE your code\n",
    "\n",
    "    if return_diag_entry:\n",
    "        return Q, diag_entry\n",
    "    return Q"
   ]
  },
  {
   "cell_type": "markdown",
   "id": "55e457c9",
   "metadata": {},
   "source": [
    "Now check, if the Householder Matrix has the right properties:\n",
    "$$Q=Q^*=Q^{-1} $$\n",
    "and\n",
    "$$ Qv = \\beta e_1$$ \n",
    "for some $\\beta \\in \\mathbb{R}$.   \n",
    "EXERCISE: Test your implementation."
   ]
  },
  {
   "cell_type": "markdown",
   "id": "846ead6e",
   "metadata": {},
   "source": [
    "## QR decomposition\n"
   ]
  },
  {
   "cell_type": "code",
   "execution_count": null,
   "id": "a4da3602",
   "metadata": {},
   "outputs": [],
   "source": [
    "def QR_decomposition(A):\n",
    "    n = A.shape[0]\n",
    "    Q = np.eye(n)\n",
    "    R = A.copy()\n",
    "    return Q, R"
   ]
  },
  {
   "cell_type": "code",
   "execution_count": null,
   "id": "6ce85fa0",
   "metadata": {},
   "outputs": [],
   "source": [
    "A = np.random.random((4, 4))\n",
    "\n",
    "Q, R = QR_decomposition(A.copy())\n",
    "print(\"A == QR?\", np.all(np.abs(A - Q @ R) < 1e-10))\n",
    "fig, ax = plt.subplots(1, 3, figsize=(15, 5))\n",
    "im = ax[0].matshow(A)\n",
    "ax[0].set_title(\"A\")\n",
    "ax[1].matshow(Q)\n",
    "ax[1].set_title(\"Q\")\n",
    "ax[2].matshow(R)\n",
    "ax[2].set_title(\"R\")\n",
    "fig.colorbar(im, ax=ax)\n",
    "plt.show()"
   ]
  },
  {
   "cell_type": "markdown",
   "id": "66cebe7c",
   "metadata": {},
   "source": [
    "Now let's check our \"bad guys\":"
   ]
  },
  {
   "cell_type": "code",
   "execution_count": null,
   "id": "89c89498",
   "metadata": {},
   "outputs": [],
   "source": [
    "n = 100\n",
    "\n",
    "print(\"Random Matrix:\")\n",
    "A = np.random.random((n, n))\n",
    "Q, R = QR_decomposition(A)\n",
    "error_hh = np.max(np.abs(Q @ Q.T - np.eye(n)))\n",
    "print(\"Q@Q.T == I?\", np.all(np.abs(Q @ Q.T - np.eye(n)) < 1e-10))\n",
    "print(\" The error is \", error_hh)\n",
    "\n",
    "print(\"\\ncolinear Matrix:\")\n",
    "A = almost_colinear_matrix(n)\n",
    "Q, R = QR_decomposition(A)\n",
    "error_hh = np.max(np.abs(Q @ Q.T - np.eye(n)))\n",
    "print(\"Q@Q.T == I?\", np.all(np.abs(Q @ Q.T - np.eye(n)) < 1e-10))\n",
    "print(\" The error is \", error_hh)\n",
    "\n",
    "print(\"\\nHilbert Matrix:\")\n",
    "A = hilbert_matrix(n)\n",
    "Q, R = QR_decomposition(A)\n",
    "error_hh = np.max(np.abs(Q @ Q.T - np.eye(n)))\n",
    "print(\"Q@Q.T == I?\", np.all(np.abs(Q @ Q.T - np.eye(n)) < 1e-10))\n",
    "print(\" The error is \", error_hh)"
   ]
  },
  {
   "cell_type": "markdown",
   "id": "8e861468",
   "metadata": {},
   "source": [
    "Wonderful!"
   ]
  },
  {
   "cell_type": "markdown",
   "id": "cda04cd7",
   "metadata": {},
   "source": [
    "## Solving linear systems"
   ]
  },
  {
   "cell_type": "markdown",
   "id": "96cf0ec9",
   "metadata": {},
   "source": [
    "Let's have a rectangular system:\n",
    "$$Ax=b$$\n",
    "Finding the least solution is equivalent to $(A=QR)$\n",
    "$$ Rx =Q^Tb \\qquad \\Leftrightarrow  \\qquad A^TAx = A^Tb$$\n",
    "\n",
    "Because $R$ is an upper triangular matrix, we need the backward substitution."
   ]
  },
  {
   "cell_type": "code",
   "execution_count": null,
   "id": "e77f70c0",
   "metadata": {},
   "outputs": [],
   "source": [
    "def backward_substitution(U, b):\n",
    "    n = U.shape[1]\n",
    "    # This is needed for rectangular R\n",
    "    if U.shape[0] != n:\n",
    "        U = U[:n, :n]\n",
    "        b = b[:n]\n",
    "\n",
    "    x = np.zeros(n)\n",
    "    # first step, lower right corner\n",
    "    x[-1] = b[-1] / U[-1, -1]\n",
    "    # now backward substitution\n",
    "    for i in range(n - 2, -1, -1):\n",
    "        x[i] = (b[i] - U[i, i + 1 :] @ x[i + 1 :]) / U[i, i]\n",
    "    return x"
   ]
  },
  {
   "cell_type": "markdown",
   "id": "6c04aac8",
   "metadata": {},
   "source": [
    "Our last step is to compare our implementation to solution by python.\n",
    "We will compare this by \n",
    "1. the Solution of the normal system $A^TAx = A^Tb$, which is going to be solved as a system of linear equations.\n",
    "2. the Minimum of $\\| Ax-b \\|$"
   ]
  },
  {
   "cell_type": "code",
   "execution_count": null,
   "id": "f24e4d00",
   "metadata": {},
   "outputs": [],
   "source": [
    "n = 6\n",
    "m = 3\n",
    "A = np.random.random((n, m))\n",
    "b = np.random.random(n)\n",
    "\n",
    "Q = np.eye(n)\n",
    "R = A\n",
    "x_QR = np.ones(m)\n",
    "\n",
    "# Min via QR\n",
    "\n",
    "# HERE your code\n",
    "\n",
    "\n",
    "# Min via normal equation\n",
    "x_normal = np.linalg.solve(A.T @ A, A.T @ b)\n",
    "\n",
    "# min via optimazation problem:\n",
    "print(\"Least Squares Solution:\")\n",
    "from scipy.optimize import minimize\n",
    "\n",
    "x_opt = minimize(lambda x: np.linalg.norm(A @ x - b), np.zeros(m)).x\n",
    "\n",
    "print(\"normal\\t\\t\", x_normal)\n",
    "print(\"QR\\t\\t\", x_QR)\n",
    "print(\"optimization\\t\", x_opt)\n",
    "print(\"Residual\", np.linalg.norm(A @ x_opt - b))"
   ]
  },
  {
   "cell_type": "markdown",
   "id": "eef28bda",
   "metadata": {},
   "source": [
    "Now, we can solve rectangular systems:"
   ]
  },
  {
   "cell_type": "markdown",
   "id": "0abc569b",
   "metadata": {},
   "source": [
    "## Advanced memory management\n",
    "For large matrices, it's too slow to save Q and R in separate matrices (and store all the Zeros).  \n",
    "Think about a memory optimized version.\n",
    "Hints:\n",
    "1. Do really need Q? Or only the vectors?\n",
    "2. Which of the entries of the matrix can be overwritten?\n",
    "3. Which matrices do need for the solution of which problem?\n",
    "\n",
    "Try to implement some optimizations.\n"
   ]
  },
  {
   "cell_type": "markdown",
   "id": "b457ebd1",
   "metadata": {},
   "source": [
    "#### Solution\n"
   ]
  }
 ],
 "metadata": {
  "kernelspec": {
   "display_name": "Python 3",
   "language": "python",
   "name": "python3"
  },
  "language_info": {
   "codemirror_mode": {
    "name": "ipython",
    "version": 3
   },
   "file_extension": ".py",
   "mimetype": "text/x-python",
   "name": "python",
   "nbconvert_exporter": "python",
   "pygments_lexer": "ipython3",
   "version": "3.13.7"
  }
 },
 "nbformat": 4,
 "nbformat_minor": 5
}
