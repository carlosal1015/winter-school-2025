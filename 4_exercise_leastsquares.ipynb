{
 "cells": [
  {
   "cell_type": "code",
   "execution_count": 1,
   "id": "1b046db7",
   "metadata": {},
   "outputs": [],
   "source": [
    "import matplotlib.pyplot as plt\n",
    "import numpy as np\n",
    "import scipy.stats as st\n",
    "from scipy.optimize import minimize\n",
    "\n",
    "rng = np.random.default_rng(seed=1)"
   ]
  },
  {
   "cell_type": "markdown",
   "id": "6d5e16fc",
   "metadata": {},
   "source": [
    "---\n",
    "\n",
    "## Task 0 \n",
    "Play around with the jupyter notebook from the lecture and see if you can get better accuracy results.\n",
    "\n",
    "Solution: First, make a box diagram in order to see if there exists missing values."
   ]
  },
  {
   "cell_type": "markdown",
   "id": "3d297288",
   "metadata": {},
   "source": [
    "---\n",
    "\n",
    "## Task 1: Least-Squares Method Analytically \n",
    "\n",
    "Given are 10 value pairs $(k, y_k)$ for $k$ from 1 to 10, where the $y_k$ are Poisson-distributed measurements around expectation values $\\mu_k = a\\cdot k$.   \n",
    "The parameter $a$ is to be estimated using the weighted least-squares method. To do this, consider the following $\\chi^2$ functions:\n",
    "\n",
    "$$\\chi^2 = \\sum_{k=1}^{10} w_k (y_k - \\mu_k)^2 \\quad\\text{with}\\quad w_k \\in \\left\\{1, \\frac{1}{y_k}, \\frac{1}{\\mu_k} \\right\\}$$\n",
    "\n",
    "### 1.1\n",
    "\n",
    "Analytically calculate the estimators $\\hat{a}$ as a function of $y_k$ which minimize the corresponding $\\chi^2$ functions. Are there special cases where the estimators are not defined?\n",
    "\n",
    "---"
   ]
  },
  {
   "cell_type": "markdown",
   "id": "ba3d58b4",
   "metadata": {},
   "source": [
    "..."
   ]
  },
  {
   "cell_type": "markdown",
   "id": "9967c2a2",
   "metadata": {},
   "source": [
    "---\n",
    "### 1.2\n",
    "\n",
    "Compute the distributions of the estimators $\\hat{a}$ using Monte-Carlo simulation for $a = 1$ and $a = 100$. Which estimator has the smallest bias and variance?\n",
    "\n",
    "---"
   ]
  },
  {
   "cell_type": "code",
   "execution_count": 2,
   "id": "3bffdb0e",
   "metadata": {},
   "outputs": [
    {
     "ename": "NameError",
     "evalue": "name '____' is not defined",
     "output_type": "error",
     "traceback": [
      "\u001b[31m---------------------------------------------------------------------------\u001b[39m",
      "\u001b[31mNameError\u001b[39m                                 Traceback (most recent call last)",
      "\u001b[36mCell\u001b[39m\u001b[36m \u001b[39m\u001b[32mIn[2]\u001b[39m\u001b[32m, line 21\u001b[39m\n\u001b[32m     19\u001b[39m \u001b[38;5;28;01mfor\u001b[39;00m label, estim \u001b[38;5;129;01min\u001b[39;00m estimators.items():\n\u001b[32m     20\u001b[39m     \u001b[38;5;28;01mwith\u001b[39;00m np.errstate(divide=\u001b[33m\"\u001b[39m\u001b[33mignore\u001b[39m\u001b[33m\"\u001b[39m):\n\u001b[32m---> \u001b[39m\u001b[32m21\u001b[39m         ab = [\u001b[43mestim\u001b[49m\u001b[43m(\u001b[49m\u001b[43mk\u001b[49m\u001b[43m,\u001b[49m\u001b[43m \u001b[49m\u001b[43myb\u001b[49m\u001b[43m)\u001b[49m \u001b[38;5;28;01mfor\u001b[39;00m yb \u001b[38;5;129;01min\u001b[39;00m y]\n\u001b[32m     22\u001b[39m     ma = np.mean(ab)\n\u001b[32m     23\u001b[39m     sa = np.std(ab)\n",
      "\u001b[36mCell\u001b[39m\u001b[36m \u001b[39m\u001b[32mIn[2]\u001b[39m\u001b[32m, line 11\u001b[39m, in \u001b[36m<lambda>\u001b[39m\u001b[34m(k, y)\u001b[39m\n\u001b[32m      3\u001b[39m     y = rng.poisson(\n\u001b[32m      4\u001b[39m         a * k, size=(size, n)\n\u001b[32m      5\u001b[39m     )  \u001b[38;5;66;03m# draw size times n (=len(ks)) poisson numbers with mean a*k\u001b[39;00m\n\u001b[32m      6\u001b[39m     \u001b[38;5;28;01mreturn\u001b[39;00m k, y\n\u001b[32m      9\u001b[39m estimators = {\n\u001b[32m     10\u001b[39m     \u001b[38;5;66;03m# lambda: anonymous functions\u001b[39;00m\n\u001b[32m---> \u001b[39m\u001b[32m11\u001b[39m     \u001b[33m\"\u001b[39m\u001b[33m1\u001b[39m\u001b[38;5;130;01m\\\\\u001b[39;00m\u001b[33m;\u001b[39m\u001b[38;5;130;01m\\\\\u001b[39;00m\u001b[33mquad\u001b[39m\u001b[33m\"\u001b[39m: \u001b[38;5;28;01mlambda\u001b[39;00m k, y: \u001b[43m____\u001b[49m,\n\u001b[32m     12\u001b[39m     \u001b[33m\"\u001b[39m\u001b[33m1/y_k\u001b[39m\u001b[33m\"\u001b[39m: \u001b[38;5;28;01mlambda\u001b[39;00m k, y: ____,\n\u001b[32m     13\u001b[39m     \u001b[33m\"\u001b[39m\u001b[33m1/\u001b[39m\u001b[38;5;130;01m\\\\\u001b[39;00m\u001b[33mmu_k\u001b[39m\u001b[33m\"\u001b[39m: \u001b[38;5;28;01mlambda\u001b[39;00m k, y: ____,\n\u001b[32m     14\u001b[39m }\n\u001b[32m     16\u001b[39m \u001b[38;5;28;01mfor\u001b[39;00m a \u001b[38;5;129;01min\u001b[39;00m (\u001b[32m1\u001b[39m, \u001b[32m100\u001b[39m):\n\u001b[32m     17\u001b[39m     k, y = generate(a)\n",
      "\u001b[31mNameError\u001b[39m: name '____' is not defined"
     ]
    },
    {
     "data": {
      "text/plain": [
       "<Figure size 4125x3000 with 0 Axes>"
      ]
     },
     "metadata": {},
     "output_type": "display_data"
    }
   ],
   "source": [
    "def generate(a, n=10, size=5000):\n",
    "    k = np.arange(1, n + 1)  # Indices of the y_k, so [1,2,...,10]\n",
    "    y = rng.poisson(\n",
    "        a * k, size=(size, n)\n",
    "    )  # draw size times n (=len(ks)) poisson numbers with mean a*k\n",
    "    return k, y\n",
    "\n",
    "\n",
    "estimators = {\n",
    "    # lambda: anonymous functions\n",
    "    \"1\\\\;\\\\quad\": lambda k, y: ____,\n",
    "    \"1/y_k\": lambda k, y: ____,\n",
    "    \"1/\\\\mu_k\": lambda k, y: ____,\n",
    "}\n",
    "\n",
    "for a in (1, 100):\n",
    "    k, y = generate(a)\n",
    "    plt.figure(figsize=(5.5, 4), layout=\"constrained\")\n",
    "    for label, estim in estimators.items():\n",
    "        with np.errstate(divide=\"ignore\"):\n",
    "            ab = [estim(k, yb) for yb in y]\n",
    "        ma = np.mean(ab)\n",
    "        sa = np.std(ab)\n",
    "        w, xe = np.histogram(ab, bins=20)\n",
    "        w = w / np.sum(w) / np.diff(xe)\n",
    "        plt.stairs(\n",
    "            w,\n",
    "            xe,\n",
    "            label=f\"$w_k = {label} \\\\quad \\\\bar{{a}} = {ma:3.2f} \\\\quad \\\\sigma(a) = {sa:.2f}$\",\n",
    "        )\n",
    "    plt.title(f\"a = {a}\")\n",
    "    plt.legend(loc=\"upper right\")"
   ]
  }
 ],
 "metadata": {
  "kernelspec": {
   "display_name": "Python 3",
   "language": "python",
   "name": "python3"
  },
  "language_info": {
   "codemirror_mode": {
    "name": "ipython",
    "version": 3
   },
   "file_extension": ".py",
   "mimetype": "text/x-python",
   "name": "python",
   "nbconvert_exporter": "python",
   "pygments_lexer": "ipython3",
   "version": "3.13.7"
  }
 },
 "nbformat": 4,
 "nbformat_minor": 5
}
