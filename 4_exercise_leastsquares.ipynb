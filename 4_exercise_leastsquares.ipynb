{
 "cells": [
  {
   "cell_type": "code",
   "execution_count": 1,
   "id": "1b046db7",
   "metadata": {},
   "outputs": [],
   "source": [
    "import matplotlib.pyplot as plt\n",
    "import numpy as np\n",
    "import scipy.stats as st\n",
    "from scipy.optimize import minimize\n",
    "\n",
    "rng = np.random.default_rng(seed=1)"
   ]
  },
  {
   "cell_type": "markdown",
   "id": "6d5e16fc",
   "metadata": {},
   "source": [
    "---\n",
    "\n",
    "## Task 0 \n",
    "Play around with the jupyter notebook from the lecture and see if you can get better accuracy results.\n",
    "\n",
    "Solution: First, make a box diagram in order to see if there exists missing values."
   ]
  },
  {
   "cell_type": "markdown",
   "id": "3d297288",
   "metadata": {},
   "source": [
    "---\n",
    "\n",
    "## Task 1: Least-Squares Method Analytically \n",
    "\n",
    "Given are 10 value pairs $(k, y_k)$ for $k$ from 1 to 10, where the $y_k$ are Poisson-distributed measurements around expectation values $\\mu_k = a\\cdot k$.   \n",
    "The parameter $a$ is to be estimated using the weighted least-squares method. To do this, consider the following $\\chi^2$ functions:\n",
    "\n",
    "$$\\chi^2 = \\sum_{k=1}^{10} w_k (y_k - \\mu_k)^2 \\quad\\text{with}\\quad w_k \\in \\left\\{1, \\frac{1}{y_k}, \\frac{1}{\\mu_k} \\right\\}$$\n",
    "\n",
    "### 1.1\n",
    "\n",
    "Analytically calculate the estimators $\\hat{a}$ as a function of $y_k$ which minimize the corresponding $\\chi^2$ functions. Are there special cases where the estimators are not defined?\n",
    "\n",
    "---"
   ]
  },
  {
   "cell_type": "markdown",
   "id": "ba3d58b4",
   "metadata": {},
   "source": [
    "..."
   ]
  },
  {
   "cell_type": "markdown",
   "id": "9967c2a2",
   "metadata": {},
   "source": [
    "---\n",
    "### 1.2\n",
    "\n",
    "Compute the distributions of the estimators $\\hat{a}$ using Monte-Carlo simulation for $a = 1$ and $a = 100$. Which estimator has the smallest bias and variance?\n",
    "\n",
    "---"
   ]
  },
  {
   "cell_type": "code",
   "execution_count": null,
   "id": "3bffdb0e",
   "metadata": {},
   "outputs": [],
   "source": [
    "\n",
    "def generate(a, n=10, size=5000):\n",
    "    k = np.arange(1, n + 1)  # Indices of the y_k, so [1,2,...,10]\n",
    "    y = rng.poisson(\n",
    "        a * k, size=(size, n)\n",
    "    )  # draw size times n (=len(ks)) poisson numbers with mean a*k\n",
    "    return k, y\n",
    "\n",
    "\n",
    "estimators = {\n",
    "    # lambda: anonymous functions\n",
    "    \"1\\\\;\\\\quad\": lambda k, y: ____,\n",
    "    \"1/y_k\": lambda k, y: ____,\n",
    "    \"1/\\\\mu_k\": lambda k, y: ____,\n",
    "}\n",
    "\n",
    "for a in (1, 100):\n",
    "    k, y = generate(a)\n",
    "    plt.figure(figsize=(5.5, 4), layout=\"constrained\")\n",
    "    for label, estim in estimators.items():\n",
    "        with np.errstate(divide=\"ignore\"):\n",
    "            ab = [estim(k, yb) for yb in y]\n",
    "        ma = np.mean(ab)\n",
    "        sa = np.std(ab)\n",
    "        w, xe = np.histogram(ab, bins=20)\n",
    "        w = w / np.sum(w) / np.diff(xe)\n",
    "        plt.stairs(\n",
    "            w,\n",
    "            xe,\n",
    "            label=f\"$w_k = {label} \\\\quad \\\\bar{{a}} = {ma:3.2f} \\\\quad \\\\sigma(a) = {sa:.2f}$\",\n",
    "        )\n",
    "    plt.title(f\"a = {a}\")\n",
    "    plt.legend(loc=\"upper right\");"
   ]
  }
 ],
 "metadata": {
  "kernelspec": {
   "display_name": "Python 3",
   "language": "python",
   "name": "python3"
  },
  "language_info": {
   "codemirror_mode": {
    "name": "ipython",
    "version": 3
   },
   "file_extension": ".py",
   "mimetype": "text/x-python",
   "name": "python",
   "nbconvert_exporter": "python",
   "pygments_lexer": "ipython3",
   "version": "3.13.7"
  }
 },
 "nbformat": 4,
 "nbformat_minor": 5
}
