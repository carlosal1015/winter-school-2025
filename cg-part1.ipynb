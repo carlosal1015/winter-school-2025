{
 "cells": [
  {
   "cell_type": "markdown",
   "id": "cefd8cf1",
   "metadata": {},
   "source": [
    "--- \n",
    "## 1. Introduction\n",
    "\n",
    "In this tutorial, we will have a look at the practical side of the Conjugate Gradients method that was introduced this morning. We will explore the general approach and its limitations further, as well as some issues that can arise and how to get around them with preconditioners.\n",
    "\n",
    "As a small reminder, we want to solve equations of the form\n",
    "\n",
    "$$\n",
    "Ax = b,\n",
    "$$\n",
    "\n",
    "where $A \\in \\mathbb{R}^{(n \\times n)}$ is a **symmetric** and **positive-definite** matrix. This property allows us to view the problem as a minimization problem, namely\n",
    "\n",
    "$$\n",
    "f(x) = \\frac 1 2 x^T A x - b^T x,\n",
    "$$\n",
    "\n",
    "which is central to the CG method. But let's look at direct methods to this problem first."
   ]
  },
  {
   "cell_type": "markdown",
   "id": "8273f050",
   "metadata": {},
   "source": [
    "### 1.1. Setup\n",
    "\n",
    "First, we import the necessary libraries. We'll be using `numpy` for numerical operations and `matplotlib` for plotting."
   ]
  },
  {
   "cell_type": "code",
   "execution_count": null,
   "id": "3d6d50f7",
   "metadata": {},
   "outputs": [],
   "source": [
    "import time\n",
    "\n",
    "import matplotlib.pyplot as plt\n",
    "import numpy as np\n",
    "\n",
    "# Set up plotting style\n",
    "plt.style.use(\"seaborn-v0_8-whitegrid\")"
   ]
  },
  {
   "cell_type": "markdown",
   "id": "744554f1",
   "metadata": {},
   "source": [
    "### 1.2. Generate an Example Problem\n",
    "\n",
    "As mentioned before, the CG method requires the matrix $A$ to be symmetric and positive-definite. A simple way to generate such a matrix is to create a random matrix $M$ and compute $A = M^T M$. This construction guarantees that $A$ is symmetric and positive semi-definite. If $M$ is non-singular, $A$ will be positive-definite.\n",
    "\n",
    "We will set up a linear system $Ax = b$ where we know the true solution `x_true` beforehand. This allows us to easily verify the correctness of our implementations."
   ]
  },
  {
   "cell_type": "code",
   "execution_count": null,
   "id": "357d2b4a",
   "metadata": {},
   "outputs": [],
   "source": [
    "# A = np.array([[2, 1], [-1, 0]])\n",
    "# B = np.array([[0, 0.2], [-4, 1]])\n",
    "# A @ B"
   ]
  },
  {
   "cell_type": "code",
   "execution_count": null,
   "id": "045043e8",
   "metadata": {},
   "outputs": [
    {
     "name": "stdout",
     "output_type": "stream",
     "text": [
      "[[3.89852599 3.16599965 2.03596638 1.89931397 2.69393371]\n",
      " [3.16599965 3.21436461 2.81602699 2.9653395  3.08528931]\n",
      " [2.03596638 2.81602699 4.5470413  3.96912689 2.94843775]\n",
      " [1.89931397 2.9653395  3.96912689 5.3354456  2.30463544]\n",
      " [2.69393371 3.08528931 2.94843775 2.30463544 4.21015103]]\n",
      "[0.9044379  0.85470869 0.86346242 0.17319059 0.55479873]\n",
      "Generated a 5x5 symmetric, positive-definite matrix A and vector b.\n"
     ]
    }
   ],
   "source": [
    "def generate_spd_matrix(n):\n",
    "    \"\"\"Generates a symmetric positive-definite matrix of size n x n.\"\"\"\n",
    "    M = np.random.rand(n, n)\n",
    "    # Ensure M is well-conditioned enough to be non-singular\n",
    "    M += np.eye(n)\n",
    "    A = M.T @ M\n",
    "    return A\n",
    "\n",
    "\n",
    "# Define the size of our problem. Feel free to try a few different values during the course of this exercise.\n",
    "n = 5\n",
    "\n",
    "A = generate_spd_matrix(n)\n",
    "print(A)\n",
    "x_true = np.random.rand(n)\n",
    "print(x_true)\n",
    "# Calculate the right-hand side b\n",
    "b = A @ x_true\n",
    "\n",
    "print(\n",
    "    f\"Generated a {A.shape[0]}x{A.shape[1]} symmetric, positive-definite matrix A and vector b.\"\n",
    ")"
   ]
  },
  {
   "cell_type": "markdown",
   "id": "b6d965dd",
   "metadata": {},
   "source": [
    "### 1.3. The \"Naive\" Approach: Direct Solver\n",
    "\n",
    "Before diving into iterative methods, let's solve the system using a standard direct solver from NumPy, `np.linalg.solve`. This function typically uses an LU decomposition, which is very accurate and robust for small to moderately sized dense matrices."
   ]
  },
  {
   "cell_type": "code",
   "execution_count": 6,
   "id": "709ff5bd",
   "metadata": {},
   "outputs": [
    {
     "name": "stdout",
     "output_type": "stream",
     "text": [
      "Solving Ax = b using the direct method (np.linalg.solve)...\n",
      "Direct solver finished in 0.0002 seconds.\n",
      "Relative error of the solution: 1.64e-14\n"
     ]
    }
   ],
   "source": [
    "print(\"Solving Ax = b using the direct method (np.linalg.solve)...\")\n",
    "\n",
    "# Time the direct solver\n",
    "start_time = time.time()\n",
    "x_naive = np.linalg.solve(A, b)\n",
    "end_time = time.time()\n",
    "\n",
    "time_naive = end_time - start_time\n",
    "\n",
    "# Check the error\n",
    "error_naive = np.linalg.norm(x_naive - x_true) / np.linalg.norm(x_true)\n",
    "\n",
    "print(f\"Direct solver finished in {time_naive:.4f} seconds.\")\n",
    "print(f\"Relative error of the solution: {error_naive:.2e}\")"
   ]
  },
  {
   "cell_type": "markdown",
   "id": "9cb0ae94",
   "metadata": {},
   "source": [
    "This gives us a baseline for both speed and accuracy. For a 1000x1000 matrix, the direct solver should be quite fast, but as we scale up, its computational cost ($O(n^3)$) and memory requirements ($O(n^2)$) will become significant."
   ]
  },
  {
   "cell_type": "markdown",
   "id": "976bd02b",
   "metadata": {},
   "source": [
    "### 1.4. The Idea behind the Conjugate Gradient Method\n",
    "\n",
    "The CG method combines the concept of **steepest descent** with **Krylow subspaces**:\n",
    "\n",
    "First, we start at some initial point $x_0$, and take a step in the direction of steepest descent.\n",
    "\n",
    "- This step takes place in the first, one-dimensional Krylow-subspace\n",
    "- Ideally, this step takes us the optimal amount of length along that direction\n",
    "\n",
    "Then, for each further step, we find the new direction of maximum descent, but we *only consider directions that do not undo previous progress*\n",
    "\n",
    "- This means that the steps are $A$-conjugate, instead of merely being orthogonal\n",
    "- The dimension of the Krylow-subspace increases with each step, so we require at most $n$ steps\n",
    "\n",
    "This approach gives us the exact solution after at most $n$ steps, if we have perfect arithmetic. While we cannot assume this in practice, much fewer steps can give a good approximation."
   ]
  },
  {
   "cell_type": "markdown",
   "id": "992c228a",
   "metadata": {},
   "source": [
    "### 1.5. The Conjugate Gradient Algorithm (Pseudo-code)\n",
    "\n",
    "Now let's look at the algorithm we want to implement. The goal is to find $x$ that minimizes $\\frac{1}{2}x^T A x - x^T b$.\n",
    "\n",
    "Given the system $Ax=b$, an initial guess $x_0$, a tolerance `tol`, and a maximum number of iterations `max_iter`:\n",
    "\n",
    "1.  **Initialize**\n",
    "    -   $r_0 = b - Ax_0$\n",
    "    -   $p_0 = r_0$\n",
    "    -   $k = 0$\n",
    "\n",
    "2.  **Iterate** while $k < \\text{maxiter}$ and $\\|r_k\\| > \\text{tol}$:\n",
    "    -   $\\alpha_k = \\frac{r_k^T r_k}{p_k^T A p_k}$\n",
    "    -   $x_{k+1} = x_k + \\alpha_k p_k$\n",
    "    -   $r_{k+1} = r_k - \\alpha_k A p_k$\n",
    "    -   $\\beta_k = \\frac{r_{k+1}^T r_{k+1}}{r_k^T r_k}$\n",
    "    -   $p_{k+1} = r_{k+1} + \\beta_k p_k$\n",
    "    -   $k = k + 1$\n",
    "\n",
    "3. **Return** $x_k$\n",
    "\n",
    "**Key variables:**\n",
    "- `x`: The solution vector, which we are improving in each step.\n",
    "- `r`: The residual vector ($r = b - Ax$), which we can use to compute the current error.\n",
    "- `p`: The search direction vector. Note that we always move along the residual, here we choose special \"$A$-orthogonal\" directions.\n",
    "- `alpha`: The step size.\n",
    "- `beta`: The improvement factor for the next search direction."
   ]
  },
  {
   "cell_type": "markdown",
   "id": "e6d4c8c2",
   "metadata": {},
   "source": [
    "--- \n",
    "## 2. Exercise: CG Implementation"
   ]
  },
  {
   "cell_type": "markdown",
   "id": "d6df88a3",
   "metadata": {},
   "source": [
    "### 2.1. Implementing the Algorithm\n",
    "\n",
    "Now it's your turn! Fill in the missing lines in the `conjugate_gradient` function below. Follow the pseudo-code from the previous section. \n",
    "\n",
    "**Hint:** The term $r_k^T r_k$ appears multiple times. It's efficient to compute it once per iteration and reuse the value."
   ]
  },
  {
   "cell_type": "code",
   "execution_count": null,
   "id": "ffc8feae",
   "metadata": {},
   "outputs": [],
   "source": [
    "def conjugate_gradient(A, b, x0=None, tol=1e-6, max_iter=1000):\n",
    "    \"\"\"\n",
    "    Solves the system Ax = b using the Conjugate Gradient method.\n",
    "\n",
    "    Args:\n",
    "        A (np.ndarray): The n x n symmetric positive-definite matrix.\n",
    "        b (np.ndarray): The n x 1 right-hand side vector.\n",
    "        x0 (np.ndarray, optional): Initial guess for the solution. Defaults to a zero vector.\n",
    "        tol (float, optional): The tolerance for convergence.\n",
    "        max_iter (int, optional): The maximum number of iterations.\n",
    "\n",
    "    Returns:\n",
    "        tuple: A tuple containing:\n",
    "            - x (np.ndarray): The solution vector.\n",
    "            - residuals (list): A list of the residual norm at each iteration.\n",
    "    \"\"\"\n",
    "    n = len(b)\n",
    "\n",
    "    # Initialize solution vector x\n",
    "    if x0 is None:\n",
    "        x = np.zeros(n)\n",
    "    else:\n",
    "        x = x0\n",
    "\n",
    "    # ---- TODO: Initialize r, p, and rs_old ---- #\n",
    "    # r is the residual\n",
    "    # p is the search direction\n",
    "    # rs_old is the dot product of the residual with itself\n",
    "    r = b - (A @ x)\n",
    "    p = r.copy()\n",
    "    rs_old = r.T @ r\n",
    "    # -------------------------------------------- #\n",
    "\n",
    "    residuals = [np.sqrt(rs_old)]\n",
    "\n",
    "    if residuals[0] < tol:\n",
    "        print(\"Initial guess is already within tolerance.\")\n",
    "        return x, residuals\n",
    "\n",
    "    for i in range(max_iter):\n",
    "        # ---- TODO: Main CG iteration steps ---- #\n",
    "\n",
    "        # 1. Calculate Ap = A * p\n",
    "        Ap = A @ p\n",
    "\n",
    "        # 2. Calculate step size alpha\n",
    "        alpha = rs_old / (p.T @ Ap)\n",
    "\n",
    "        # 3. Update solution\n",
    "        x = x + alpha * p\n",
    "\n",
    "        # 4. Update residual\n",
    "        r = r - alpha * Ap\n",
    "\n",
    "        # 5. Calculate new residual norm squared\n",
    "        rs_new = r.T @ r\n",
    "\n",
    "        # ------------------------------------- #\n",
    "\n",
    "        # Check for convergence\n",
    "        residual_norm = np.sqrt(rs_new)\n",
    "        residuals.append(residual_norm)\n",
    "        if residual_norm < tol:\n",
    "            print(f\"Converged after {i + 1} iterations.\")\n",
    "            break\n",
    "\n",
    "        # ---- TODO: Update search direction ---- #\n",
    "        p = r + (rs_new / rs_old) * p\n",
    "        rs_old = rs_new\n",
    "        # ------------------------------------- #\n",
    "    else:\n",
    "        print(f\"Did not converge within {max_iter} iterations.\")\n",
    "\n",
    "    return x, residuals"
   ]
  },
  {
   "cell_type": "markdown",
   "id": "26d610bb",
   "metadata": {},
   "source": [
    "### 2.2. Test your Implementation\n",
    "\n",
    "Let's run your implementation, check that it works, and see how it performs compared to the direct solver.\n",
    "\n",
    "**Don't worry if the code does not seem to converge**, it is quite possible that you will have errors around e-2, even if you implemented everything correctly."
   ]
  },
  {
   "cell_type": "code",
   "execution_count": null,
   "id": "97615e38",
   "metadata": {},
   "outputs": [
    {
     "name": "stdout",
     "output_type": "stream",
     "text": [
      "Generated a 6x6 symmetric, positive-definite matrix A and vector b.\n"
     ]
    }
   ],
   "source": [
    "# (Optional): Play around with n and tol a little and see what happens\n",
    "n = 6\n",
    "tol = 1.0e-6\n",
    "\n",
    "A = generate_spd_matrix(n)\n",
    "\n",
    "# As a sanity-check, you can also see if your code converges in the trivial case of A = Id\n",
    "# A = np.eye(n)\n",
    "\n",
    "x_true = np.random.rand(n)\n",
    "\n",
    "# Calculate the right-hand side b\n",
    "b = A @ x_true\n",
    "\n",
    "print(\n",
    "    f\"Generated a {A.shape[0]}x{A.shape[1]} symmetric, positive-definite matrix A and vector b.\"\n",
    ")"
   ]
  },
  {
   "cell_type": "code",
   "execution_count": 9,
   "id": "3871b81e",
   "metadata": {},
   "outputs": [
    {
     "name": "stdout",
     "output_type": "stream",
     "text": [
      "Solving Ax = b using the direct method (np.linalg.solve)...\n",
      "Direct solver finished in 0.0002 seconds.\n",
      "Relative error of the solution: 7.73e-16\n"
     ]
    }
   ],
   "source": [
    "# (Optional): Run the naive solver again, for time comparisons\n",
    "print(\"Solving Ax = b using the direct method (np.linalg.solve)...\")\n",
    "\n",
    "# Time the direct solver\n",
    "start_time = time.time()\n",
    "x_naive = np.linalg.solve(A, b)\n",
    "end_time = time.time()\n",
    "\n",
    "time_naive = end_time - start_time\n",
    "\n",
    "# Check the error\n",
    "error_naive = np.linalg.norm(x_naive - x_true) / np.linalg.norm(x_true)\n",
    "\n",
    "print(f\"Direct solver finished in {time_naive:.4f} seconds.\")\n",
    "print(f\"Relative error of the solution: {error_naive:.2e}\")"
   ]
  },
  {
   "cell_type": "code",
   "execution_count": 10,
   "id": "63ffbc2e",
   "metadata": {},
   "outputs": [
    {
     "name": "stdout",
     "output_type": "stream",
     "text": [
      "Solving Ax = b using our own CG implementation...\n",
      "Converged after 6 iterations.\n",
      "\n",
      "CG solver finished in 0.0003 seconds.\n",
      "Relative error of the solution: 3.26e-12\n",
      "Final residual norm: 5.80e-11\n",
      "\n",
      "--- Comparison so far ---\n",
      "Direct solver time: 0.0002 s\n",
      "Simple CG time:     0.0003 s\n"
     ]
    }
   ],
   "source": [
    "print(\"Solving Ax = b using our own CG implementation...\")\n",
    "\n",
    "# Time the CG solver\n",
    "start_time = time.time()\n",
    "x_cg, residuals_cg = conjugate_gradient(A, b, tol=tol, max_iter=n)\n",
    "end_time = time.time()\n",
    "\n",
    "time_cg = end_time - start_time\n",
    "\n",
    "# Check the error\n",
    "error_cg = np.linalg.norm(x_cg - x_true) / np.linalg.norm(x_true)\n",
    "\n",
    "print(f\"\\nCG solver finished in {time_cg:.4f} seconds.\")\n",
    "print(f\"Relative error of the solution: {error_cg:.2e}\")\n",
    "print(f\"Final residual norm: {residuals_cg[-1]:.2e}\")\n",
    "\n",
    "print(f\"\\n--- Comparison so far ---\")\n",
    "print(f\"Direct solver time: {time_naive:.4f} s\")\n",
    "print(f\"Simple CG time:     {time_cg:.4f} s\")"
   ]
  },
  {
   "cell_type": "markdown",
   "id": "1577a17b",
   "metadata": {},
   "source": [
    "**What is happening?**\n",
    "\n",
    "-   Is the result correct? (Compare `error_cg` to `error_naive` from earlier).\n",
    "-   How does the computation time compare?\n",
    "-   How many iterations did it take to converge? Did it converge at all?\n",
    "\n",
    "Let's plot the convergence history to see how the residual norm decreases over time."
   ]
  },
  {
   "cell_type": "code",
   "execution_count": null,
   "id": "92686008",
   "metadata": {},
   "outputs": [
    {
     "data": {
      "image/png": "[encoded data removed]",
      "text/plain": [
       "<Figure size 1000x600 with 1 Axes>"
      ]
     },
     "metadata": {},
     "output_type": "display_data"
    }
   ],
   "source": [
    "plt.figure(figsize=(10, 6))\n",
    "plt.semilogy(residuals_cg, marker=\"o\", linestyle=\"-\")\n",
    "plt.title(\"CG Convergence History\")\n",
    "plt.xlabel(\"Iteration\")\n",
    "plt.ylabel(\"Norm of Residual (||r||)\")\n",
    "plt.grid(True, which=\"both\", ls=\"--\")\n",
    "plt.show()"
   ]
  },
  {
   "cell_type": "markdown",
   "id": "1d67558f",
   "metadata": {},
   "source": [
    "You will probably notice some things with your implementation:\n",
    "\n",
    "1. The direct solver is usually way faster:\n",
    "\n",
    "- For one, CG's strength lies in very large and/or sparse matrices.\n",
    "- Even more importantly, the CG method often converges in much fewer than the $n$ steps in practice\n",
    "- As long as our implementation does not converge at most of the time, it is nowhere near as efficient as it could be! \n",
    "\n",
    "2. For any non-trivial example ($n > 10$) and reasonable error tolerances, the algorithm may not converge: You can see in the plot, that the method has a hard time getting below an error tolerance of 1.e-2.\n",
    "3. The algorithm is not guaranteed to converge after $n$ steps (you can check this by setting `max-iter` to a value higher than `n`): Again, this is due to the lack of perfectly accurate arithmetic.\n",
    "\n",
    "As you can see, the method is a lot worse than we would have hoped. In the second part of this exercise, we will take a look at preconditioners to speed up convergence and improve these results."
   ]
  },
  {
   "cell_type": "markdown",
   "id": "7c762024",
   "metadata": {},
   "source": [
    "### Bonus exercise\n",
    "\n",
    "If you are finished before the break, have a think about how we could verify our assumption, before implementing preconditioning. Are there some easy ways to modify the construction of $A$ (i.e. our `generate_spd_matrix` method) to make sure it is well-conditioned?"
   ]
  }
 ],
 "metadata": {
  "kernelspec": {
   "display_name": "Python 3",
   "language": "python",
   "name": "python3"
  },
  "language_info": {
   "codemirror_mode": {
    "name": "ipython",
    "version": 3
   },
   "file_extension": ".py",
   "mimetype": "text/x-python",
   "name": "python",
   "nbconvert_exporter": "python",
   "pygments_lexer": "ipython3",
   "version": "3.13.7"
  }
 },
 "nbformat": 4,
 "nbformat_minor": 5
}
