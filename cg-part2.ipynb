{
 "cells": [
  {
   "cell_type": "markdown",
   "id": "cefd8cf1",
   "metadata": {},
   "source": [
    "--- \n",
    "## 1. Introduction\n",
    "\n",
    "In this tutorial, we will have a look at the practical side of the Conjugate Gradients method that was introduced this morning. We will explore the general approach and its limitations further, as well as some issues that can arise and how to get around them with preconditioners.\n",
    "\n",
    "As a small reminder, we want to solve equations of the form\n",
    "\n",
    "$$\n",
    "Ax = b,\n",
    "$$\n",
    "\n",
    "where $A \\in \\mathbb{R}^{(n \\times n)}$ is a **symmetric** and **positive-definite** matrix. This property allows us to view the problem as a minimization problem, namely\n",
    "\n",
    "$$\n",
    "f(x) = \\frac 1 2 x^T A x - b^T x,\n",
    "$$\n",
    "\n",
    "which is central to the CG method. But let's look at direct methods to this problem first."
   ]
  },
  {
   "cell_type": "markdown",
   "id": "8273f050",
   "metadata": {},
   "source": [
    "### 1.1. Setup\n",
    "\n",
    "First, we import the necessary libraries. We'll be using `numpy` for numerical operations and `matplotlib` for plotting."
   ]
  },
  {
   "cell_type": "code",
   "execution_count": null,
   "id": "3d6d50f7",
   "metadata": {},
   "outputs": [],
   "source": [
    "import time\n",
    "\n",
    "import matplotlib.pyplot as plt\n",
    "import numpy as np\n",
    "\n",
    "# Set up plotting style\n",
    "plt.style.use(\"seaborn-v0_8-whitegrid\")"
   ]
  },
  {
   "cell_type": "markdown",
   "id": "744554f1",
   "metadata": {},
   "source": [
    "### 1.2. Generate an Example Problem\n",
    "\n",
    "As mentioned before, the CG method requires the matrix $A$ to be symmetric and positive-definite. A simple way to generate such a matrix is to create a random matrix $M$ and compute $A = M^T M$. This construction guarantees that $A$ is symmetric and positive semi-definite. If $M$ is non-singular, $A$ will be positive-definite.\n",
    "\n",
    "We will set up a linear system $Ax = b$ where we know the true solution `x_true` beforehand. This allows us to easily verify the correctness of our implementations."
   ]
  },
  {
   "cell_type": "code",
   "execution_count": null,
   "id": "045043e8",
   "metadata": {},
   "outputs": [
    {
     "name": "stdout",
     "output_type": "stream",
     "text": [
      "Generated a 1000x1000 symmetric, positive-definite matrix A and vector b.\n"
     ]
    }
   ],
   "source": [
    "def generate_spd_matrix(n):\n",
    "    \"\"\"Generates a symmetric positive-definite matrix of size n x n.\"\"\"\n",
    "    M = np.random.rand(n, n)\n",
    "    # Ensure M is well-conditioned enough to be non-singular\n",
    "    M += np.eye(n)\n",
    "    A = M.T @ M\n",
    "    return A\n",
    "\n",
    "\n",
    "# Define the size of our problem. Feel free to try a few different values during the course of this exercise.\n",
    "n = 1000\n",
    "\n",
    "A = generate_spd_matrix(n)\n",
    "x_true = np.random.rand(n)\n",
    "\n",
    "# Calculate the right-hand side b\n",
    "b = A @ x_true\n",
    "\n",
    "print(\n",
    "    f\"Generated a {A.shape[0]}x{A.shape[1]} symmetric, positive-definite matrix A and vector b.\"\n",
    ")"
   ]
  },
  {
   "cell_type": "markdown",
   "id": "b6d965dd",
   "metadata": {},
   "source": [
    "### 1.3. The \"Naive\" Approach: Direct Solver\n",
    "\n",
    "Before diving into iterative methods, let's solve the system using a standard direct solver from NumPy, `np.linalg.solve`. This function typically uses an LU decomposition, which is very accurate and robust for small to moderately sized dense matrices."
   ]
  },
  {
   "cell_type": "code",
   "execution_count": 30,
   "id": "709ff5bd",
   "metadata": {},
   "outputs": [
    {
     "name": "stdout",
     "output_type": "stream",
     "text": [
      "Solving Ax = b using the direct method (np.linalg.solve)...\n",
      "Direct solver finished in 0.0204 seconds.\n",
      "Relative error of the solution: 1.03e-07\n"
     ]
    }
   ],
   "source": [
    "print(\"Solving Ax = b using the direct method (np.linalg.solve)...\")\n",
    "\n",
    "# Time the direct solver\n",
    "start_time = time.time()\n",
    "x_naive = np.linalg.solve(A, b)\n",
    "end_time = time.time()\n",
    "\n",
    "time_naive = end_time - start_time\n",
    "\n",
    "# Check the error\n",
    "error_naive = np.linalg.norm(x_naive - x_true) / np.linalg.norm(x_true)\n",
    "\n",
    "print(f\"Direct solver finished in {time_naive:.4f} seconds.\")\n",
    "print(f\"Relative error of the solution: {error_naive:.2e}\")"
   ]
  },
  {
   "cell_type": "markdown",
   "id": "9cb0ae94",
   "metadata": {},
   "source": [
    "This gives us a baseline for both speed and accuracy. For a 1000x1000 matrix, the direct solver should be quite fast, but as we scale up, its computational cost ($O(n^3)$) and memory requirements ($O(n^2)$) will become significant."
   ]
  },
  {
   "cell_type": "markdown",
   "id": "976bd02b",
   "metadata": {},
   "source": [
    "### 1.4. The Idea behind the Conjugate Gradient Method\n",
    "\n",
    "The CG method combines the concept of **steepest descent** with **Krylow subspaces**:\n",
    "\n",
    "First, we start at some initial point $x_0$, and take a step in the direction of steepest descent.\n",
    "\n",
    "- This step takes place in the first, one-dimensional Krylow-subspace\n",
    "- Ideally, this step takes us the optimal amount of length along that direction\n",
    "\n",
    "Then, for each further step, we find the new direction of maximum descent, but we *only consider directions that do not undo previous progress*\n",
    "\n",
    "- This means that the steps are $A$-conjugate, instead of merely being orthogonal\n",
    "- The dimension of the Krylow-subspace increases with each step, so we require at most $n$ steps\n",
    "\n",
    "This approach gives us the exact solution after at most $n$ steps, if we have perfect arithmetic. While we cannot assume this in practice, much fewer steps can give a good approximation."
   ]
  },
  {
   "cell_type": "markdown",
   "id": "992c228a",
   "metadata": {},
   "source": [
    "### 1.5. The Conjugate Gradient Algorithm (Pseudo-code)\n",
    "\n",
    "Now let's look at the algorithm we want to implement. The goal is to find $x$ that minimizes $\\frac{1}{2}x^T A x - x^T b$.\n",
    "\n",
    "Given the system $Ax=b$, an initial guess $x_0$, a tolerance `tol`, and a maximum number of iterations `max_iter`:\n",
    "\n",
    "1.  **Initialize**\n",
    "    -   $r_0 = b - Ax_0$\n",
    "    -   $p_0 = r_0$\n",
    "    -   $k = 0$\n",
    "\n",
    "2.  **Iterate** while $k < \\text{maxiter}$ and $\\|r_k\\| > \\text{tol}$:\n",
    "    -   $\\alpha_k = \\frac{r_k^T r_k}{p_k^T A p_k}$\n",
    "    -   $x_{k+1} = x_k + \\alpha_k p_k$\n",
    "    -   $r_{k+1} = r_k - \\alpha_k A p_k$\n",
    "    -   $\\beta_k = \\frac{r_{k+1}^T r_{k+1}}{r_k^T r_k}$\n",
    "    -   $p_{k+1} = r_{k+1} + \\beta_k p_k$\n",
    "    -   $k = k + 1$\n",
    "\n",
    "3. **Return** $x_k$\n",
    "\n",
    "**Key variables:**\n",
    "- `x`: The solution vector, which we are improving in each step.\n",
    "- `r`: The residual vector ($r = b - Ax$), which we can use to compute the current error.\n",
    "- `p`: The search direction vector. Note that we always move along the residual, here we choose special \"$A$-orthogonal\" directions.\n",
    "- `alpha`: The step size.\n",
    "- `beta`: The improvement factor for the next search direction."
   ]
  },
  {
   "cell_type": "markdown",
   "id": "e6d4c8c2",
   "metadata": {},
   "source": [
    "--- \n",
    "## 2. Exercise: CG Implementation"
   ]
  },
  {
   "cell_type": "markdown",
   "id": "d6df88a3",
   "metadata": {},
   "source": [
    "### 2.1. Implementing the Algorithm\n",
    "\n",
    "Now it's your turn! Fill in the missing lines in the `conjugate_gradient` function below. Follow the pseudo-code from the previous section. \n",
    "\n",
    "**Hint:** The term $r_k^T r_k$ appears multiple times. It's efficient to compute it once per iteration and reuse the value."
   ]
  },
  {
   "cell_type": "code",
   "execution_count": null,
   "id": "ffc8feae",
   "metadata": {},
   "outputs": [],
   "source": [
    "def conjugate_gradient(A, b, x0=None, tol=1e-6, max_iter=1000):\n",
    "    \"\"\"\n",
    "    Solves the system Ax = b using the Conjugate Gradient method.\n",
    "\n",
    "    Args:\n",
    "        A (np.ndarray): The n x n symmetric positive-definite matrix.\n",
    "        b (np.ndarray): The n x 1 right-hand side vector.\n",
    "        x0 (np.ndarray, optional): Initial guess for the solution. Defaults to a zero vector.\n",
    "        tol (float, optional): The tolerance for convergence.\n",
    "        max_iter (int, optional): The maximum number of iterations.\n",
    "\n",
    "    Returns:\n",
    "        tuple: A tuple containing:\n",
    "            - x (np.ndarray): The solution vector.\n",
    "            - residuals (list): A list of the residual norm at each iteration.\n",
    "    \"\"\"\n",
    "    n = len(b)\n",
    "\n",
    "    # Initialize solution vector x\n",
    "    if x0 is None:\n",
    "        x = np.zeros(n)\n",
    "    else:\n",
    "        x = x0\n",
    "\n",
    "    # ---- Initialize r, p, and rs_old ---- #\n",
    "    # r is the residual (b - A*x)\n",
    "    # p is the search direction (initially same as r)\n",
    "    # rs_old is the dot product of the residual with itself (r^T * r)\n",
    "    r = b - (A @ x)\n",
    "    p = r.copy()\n",
    "    rs_old = r.T @ r\n",
    "    # -------------------------------------------- #\n",
    "\n",
    "    residuals = [np.sqrt(rs_old)]\n",
    "\n",
    "    if residuals[0] < tol:\n",
    "        print(\"Initial guess is already within tolerance.\")\n",
    "        return x, residuals\n",
    "\n",
    "    for i in range(max_iter):\n",
    "        # ---- Main CG iteration steps ---- #\n",
    "\n",
    "        # 1. Calculate Ap = A * p\n",
    "        Ap = A @ p\n",
    "\n",
    "        # 2. Calculate step size alpha\n",
    "        alpha = rs_old / (p.T @ Ap)\n",
    "\n",
    "        # 3. Update solution: x_{k+1} = x_k + alpha * p_k\n",
    "        x = x + alpha * p\n",
    "\n",
    "        # 4. Update residual: r_{k+1} = r_k - alpha * Ap\n",
    "        r = r - alpha * Ap\n",
    "\n",
    "        # 5. Calculate new residual norm squared\n",
    "        rs_new = r.T @ r\n",
    "\n",
    "        # ------------------------------------- #\n",
    "\n",
    "        # Check for convergence\n",
    "        residual_norm = np.sqrt(rs_new)\n",
    "        residuals.append(residual_norm)\n",
    "        if residual_norm < tol:\n",
    "            print(f\"Converged after {i + 1} iterations.\")\n",
    "            break\n",
    "\n",
    "        # ---- Update search direction ---- #\n",
    "        # p_{k+1} = r_{k+1} + (rs_new / rs_old) * p_k\n",
    "        p = r + (rs_new / rs_old) * p\n",
    "        rs_old = rs_new\n",
    "        # ------------------------------------- #\n",
    "    else:\n",
    "        print(f\"Did not converge within {max_iter} iterations.\")\n",
    "\n",
    "    return x, residuals"
   ]
  },
  {
   "cell_type": "markdown",
   "id": "26d610bb",
   "metadata": {},
   "source": [
    "### 2.2. Test your Implementation\n",
    "\n",
    "Let's run your implementation, check that it works, and see how it performs compared to the direct solver.\n",
    "\n",
    "**Don't worry if the code does not seem to converge**, it is quite possible that you will have errors around e-2, even if you implemented everything correctly."
   ]
  },
  {
   "cell_type": "code",
   "execution_count": null,
   "id": "97615e38",
   "metadata": {},
   "outputs": [
    {
     "name": "stdout",
     "output_type": "stream",
     "text": [
      "Generated a 600x600 symmetric, positive-definite matrix A and vector b.\n"
     ]
    }
   ],
   "source": [
    "# Play around with n and tol a little and see what happens\n",
    "n = 600\n",
    "tol = 1.0e-6\n",
    "\n",
    "A = generate_spd_matrix(n)\n",
    "\n",
    "# As a sanity-check, you can also see if your code converges in the trivial case of A = Id\n",
    "# A = np.eye(n)\n",
    "\n",
    "x_true = np.random.rand(n)\n",
    "\n",
    "# Calculate the right-hand side b\n",
    "b = A @ x_true\n",
    "\n",
    "print(\n",
    "    f\"Generated a {A.shape[0]}x{A.shape[1]} symmetric, positive-definite matrix A and vector b.\"\n",
    ")"
   ]
  },
  {
   "cell_type": "code",
   "execution_count": 33,
   "id": "3871b81e",
   "metadata": {},
   "outputs": [
    {
     "name": "stdout",
     "output_type": "stream",
     "text": [
      "Solving Ax = b using the direct method (np.linalg.solve)...\n",
      "Direct solver finished in 0.0042 seconds.\n",
      "Relative error of the solution: 5.61e-09\n"
     ]
    }
   ],
   "source": [
    "# (Optional): Run the naive solver again, for time comparisons\n",
    "print(\"Solving Ax = b using the direct method (np.linalg.solve)...\")\n",
    "\n",
    "# Time the direct solver\n",
    "start_time = time.time()\n",
    "x_naive = np.linalg.solve(A, b)\n",
    "end_time = time.time()\n",
    "\n",
    "time_naive = end_time - start_time\n",
    "\n",
    "# Check the error\n",
    "error_naive = np.linalg.norm(x_naive - x_true) / np.linalg.norm(x_true)\n",
    "\n",
    "print(f\"Direct solver finished in {time_naive:.4f} seconds.\")\n",
    "print(f\"Relative error of the solution: {error_naive:.2e}\")"
   ]
  },
  {
   "cell_type": "code",
   "execution_count": 34,
   "id": "63ffbc2e",
   "metadata": {},
   "outputs": [
    {
     "name": "stdout",
     "output_type": "stream",
     "text": [
      "Solving Ax = b using our own CG implementation...\n",
      "Did not converge within 600 iterations.\n",
      "\n",
      "CG solver finished in 0.0376 seconds.\n",
      "Relative error of the solution: 5.71e-03\n",
      "Final residual norm: 4.90e-03\n",
      "\n",
      "--- Comparison so far ---\n",
      "Direct solver time: 0.0042 s\n",
      "Simple CG time:     0.0376 s\n"
     ]
    }
   ],
   "source": [
    "print(\"Solving Ax = b using our own CG implementation...\")\n",
    "\n",
    "# Time the CG solver\n",
    "start_time = time.time()\n",
    "x_cg, residuals_cg = conjugate_gradient(A, b, tol=tol, max_iter=n)\n",
    "end_time = time.time()\n",
    "\n",
    "time_cg = end_time - start_time\n",
    "\n",
    "# Check the error\n",
    "error_cg = np.linalg.norm(x_cg - x_true) / np.linalg.norm(x_true)\n",
    "\n",
    "print(f\"\\nCG solver finished in {time_cg:.4f} seconds.\")\n",
    "print(f\"Relative error of the solution: {error_cg:.2e}\")\n",
    "print(f\"Final residual norm: {residuals_cg[-1]:.2e}\")\n",
    "\n",
    "print(f\"\\n--- Comparison so far ---\")\n",
    "print(f\"Direct solver time: {time_naive:.4f} s\")\n",
    "print(f\"Simple CG time:     {time_cg:.4f} s\")"
   ]
  },
  {
   "cell_type": "markdown",
   "id": "1577a17b",
   "metadata": {},
   "source": [
    "**What is happening?**\n",
    "\n",
    "-   Is the result correct? (Compare `error_cg` to `error_naive` from earlier).\n",
    "-   How does the computation time compare?\n",
    "-   How many iterations did it take to converge? Did it converge at all?\n",
    "\n",
    "Let's plot the convergence history to see how the residual norm decreases over time."
   ]
  },
  {
   "cell_type": "code",
   "execution_count": null,
   "id": "92686008",
   "metadata": {},
   "outputs": [
    {
     "data": {
      "image/png": "[encoded data removed]",
      "text/plain": [
       "<Figure size 1000x600 with 1 Axes>"
      ]
     },
     "metadata": {},
     "output_type": "display_data"
    }
   ],
   "source": [
    "plt.figure(figsize=(10, 6))\n",
    "plt.semilogy(residuals_cg, marker=\"o\", linestyle=\"-\")\n",
    "plt.title(\"CG Convergence History\")\n",
    "plt.xlabel(\"Iteration\")\n",
    "plt.ylabel(\"Norm of Residual (||r||)\")\n",
    "plt.grid(True, which=\"both\", ls=\"--\")\n",
    "plt.show()"
   ]
  },
  {
   "cell_type": "markdown",
   "id": "1d67558f",
   "metadata": {},
   "source": [
    "You will probably notice some things with your implementation:\n",
    "\n",
    "1. The direct solver is usually way faster:\n",
    "\n",
    "- For one, CG's strength lies in very large and/or sparse matrices.\n",
    "- Even more importantly, the CG method often converges in much fewer than the $n$ steps in practice\n",
    "- As long as our implementation does not converge at most of the time, it is nowhere near as efficient as it could be! \n",
    "\n",
    "2. For any non-trivial example ($n > 10$) and reasonable error tolerances, the algorithm may not converge: You can see in the plot, that the method has a hard time getting below an error tolerance of 1.e-2.\n",
    "3. The algorithm is not guaranteed to converge after $n$ steps (you can check this by setting `max-iter` to a value higher than `n`): Again, this is due to the lack of perfectly accurate arithmetic.\n",
    "\n",
    "As you can see, the method is a lot worse than we would have hoped. In the second part of this exercise, we will take a look at preconditioners to speed up convergence and improve these results."
   ]
  },
  {
   "cell_type": "markdown",
   "id": "28cbf75f",
   "metadata": {},
   "source": [
    "### Bonus exercise\n",
    "\n",
    "If you are finished before the break, have a think about how we could verify our assumption, before implementing preconditioning. Are there some easy ways to modify the construction of $A$ (i.e. our `generate_spd_matrix` method) to make sure it is well-conditioned?\n",
    "\n",
    "*Answer: By increasing the factor in `M += np.eye(n)` to e.g. `M += 100 * np.eye(n)`, we can make the matrix diagonally dominant. This gives us a well-conditioned matrix, that our simple algorithm should be able to handle well. However, this is only helpful for demonstration purposes, if we really want to solve an ill-conditioned system, we need to go about it in a different way.*"
   ]
  },
  {
   "cell_type": "markdown",
   "id": "cab5553b",
   "metadata": {},
   "source": [
    "--- \n",
    "## 3. Preconditioning"
   ]
  },
  {
   "cell_type": "markdown",
   "id": "1719781d",
   "metadata": {},
   "source": [
    "### 3.1. The Condition Number\n",
    "\n",
    "The number of iterations CG takes to converge is closely related to the **condition number** of the matrix $A$, denoted $\\kappa(A)$.\n",
    "\n",
    "$\\kappa(A) = \\|A\\| \\|A^{-1}\\| = \\frac{\\lambda_{\\max}}{\\lambda_{\\min}}$ (for symmetric positive-definite matrices)\n",
    "\n",
    "A **high condition number** means the matrix is \"ill-conditioned\". This has two major negative effects:\n",
    "1.  **Error Amplification:** Small errors in the input `b` can lead to large errors in the output `x`.\n",
    "2.  **Slow Convergence:** Iterative methods like CG converge very slowly. The number of iterations is roughly proportional to $\\sqrt{\\kappa(A)}$.\n",
    "\n",
    "Let's check the condition number of our matrix `A`."
   ]
  },
  {
   "cell_type": "code",
   "execution_count": 36,
   "id": "ea085279",
   "metadata": {},
   "outputs": [
    {
     "name": "stdout",
     "output_type": "stream",
     "text": [
      "The condition number of A is: 2.51e+09\n"
     ]
    }
   ],
   "source": [
    "# Try this with different sizes of A\n",
    "cond_A = np.linalg.cond(A)\n",
    "print(f\"The condition number of A is: {cond_A:.2e}\")"
   ]
  },
  {
   "cell_type": "markdown",
   "id": "6ff89ad8",
   "metadata": {},
   "source": [
    "That's a pretty large number! This explains why our simple CG implementation might have taken many iterations to converge. To fix this, we can use **preconditioning**."
   ]
  },
  {
   "cell_type": "markdown",
   "id": "e591461c",
   "metadata": {},
   "source": [
    "### 3.2. Preconditioning Theory\n",
    "\n",
    "The idea is to find a **preconditioner matrix** that is:\n",
    "1.  Also symmetric and positive-definite.\n",
    "2.  A good approximation of $A$.\n",
    "3.  Easy to invert.\n",
    "\n",
    "Instead of solving $Ax=b$, we solve a modified system. The most common form is **left preconditioning**, where we solve $P^{-1}Ax = P^{-1}b$. \n",
    "\n",
    "**Note:** Even if $A$ and $P$ are symmetric, the new system matrix $M = P^{-1}A$ is generally not symmetric! This means we cannot apply the standard CG algorithm directly to it. The **Preconditioned Conjugate Gradient** method is a clever variant that is mathematically equivalent to running CG on a transformed, symmetric system, without having to explicitly form $M$.\n",
    "\n",
    "Our goal is to find a $P$ such that $\\kappa(P^{-1}A) \\ll \\kappa(A)$.\n",
    "\n",
    "The simplest (but often effective) preconditioner is the **Jacobi Preconditioner** (or Diagonal Preconditioner). We choose $P$ to be the diagonal of $A$.\n",
    "\n",
    "$P = \\text{diag}(A_{11}, A_{22}, ..., A_{nn})$\n",
    "\n",
    "Since $A$ is symmetric positive-definite, all its diagonal entries $A_{ii}$ are positive, which means $P$ is also positive-definite. Inverting this $P$ is also trivial, as $P^{-1}$ is just a diagonal matrix with entries $1/A_{ii}$."
   ]
  },
  {
   "cell_type": "markdown",
   "id": "a8408f42",
   "metadata": {},
   "source": [
    "### 3.3. Implementing the Jacobi Preconditioner\n",
    "\n",
    "For this part, we will first modify our matrix to generate a new, ill-conditioned matrix that work well with Jacobi preconditioning."
   ]
  },
  {
   "cell_type": "code",
   "execution_count": null,
   "id": "fa802de9",
   "metadata": {},
   "outputs": [],
   "source": [
    "# A = np.array([[-1, 2, 3], [3, -4, 5], [-6, 7, 8]])\n",
    "# print(A)\n",
    "# print(np.abs(np.diag(A)))\n",
    "# print(np.sum(np.abs(A), axis=1))\n",
    "# print(np.logspace(0, np.log10(1e10), 5))\n",
    "# ?np.fill_diagonal"
   ]
  },
  {
   "cell_type": "code",
   "execution_count": null,
   "id": "78120af6",
   "metadata": {},
   "outputs": [],
   "source": [
    "def make_diagonally_dominant(A, diag_cond_num=1e15):\n",
    "    n = A.shape[0]\n",
    "    row_sums = np.sum(np.abs(A), axis=1) - np.abs(np.diag(A))\n",
    "    ill_conditioned_part = np.logspace(0, np.log10(diag_cond_num), n)\n",
    "    np.random.shuffle(ill_conditioned_part)\n",
    "    final_diag = ill_conditioned_part + row_sums\n",
    "    np.fill_diagonal(A, final_diag)\n",
    "    return"
   ]
  },
  {
   "cell_type": "code",
   "execution_count": 39,
   "id": "7582d571",
   "metadata": {},
   "outputs": [
    {
     "name": "stdout",
     "output_type": "stream",
     "text": [
      "The condition number of A is now: 1.18e+10\n"
     ]
    }
   ],
   "source": [
    "make_diagonally_dominant(A)\n",
    "cond_A = np.linalg.cond(A)\n",
    "print(f\"The condition number of A is now: {cond_A:.2e}\")\n",
    "\n",
    "x_true = np.random.rand(n)\n",
    "b = A @ x_true"
   ]
  },
  {
   "cell_type": "markdown",
   "id": "e8521ca9",
   "metadata": {},
   "source": [
    "As for the obvious question: Why bother? The Jacobi preconditioner works well for ill-conditioned, but diagonally dominant matrices, where the main source of issues comes from the diagonal. So this modification is only for demonstrative purposes, but we will get back to the original matrix later.\n",
    "\n",
    "Let's now create our preconditioner. We will actually compute its inverse, since that's what the algorithm needs."
   ]
  },
  {
   "cell_type": "code",
   "execution_count": null,
   "id": "4a891302",
   "metadata": {},
   "outputs": [
    {
     "name": "stdout",
     "output_type": "stream",
     "text": [
      "[1.    0.25  0.125]\n",
      "[[1 0 0]\n",
      " [0 4 0]\n",
      " [0 0 8]]\n",
      "[[1.    0.    0.   ]\n",
      " [0.    0.25  0.   ]\n",
      " [0.    0.    0.125]]\n"
     ]
    }
   ],
   "source": [
    "# Example of np.diag\n",
    "matrix = np.array([[1, 2, 3], [3, 4, 5], [5, 6, 8]])\n",
    "print(1 / np.diag(matrix))\n",
    "print(np.diag(np.diag(matrix)))\n",
    "print(np.diag(1 / (np.diag(matrix))))"
   ]
  },
  {
   "cell_type": "code",
   "execution_count": null,
   "id": "f8917ba6",
   "metadata": {},
   "outputs": [
    {
     "name": "stdout",
     "output_type": "stream",
     "text": [
      "--- Condition Numbers ---\n",
      "Original matrix A:      1.18e+10\n",
      "Preconditioned P_inv*A: 1.60e+00\n",
      "Improvement factor:     7.37e+09 times better\n"
     ]
    }
   ],
   "source": [
    "# TODO: Create the inverse of the Jacobi preconditioner, P_inv.\n",
    "# P is a diagonal matrix containing the diagonal of A.\n",
    "# P_inv is a diagonal matrix containing the reciprocal of the diagonal of A.\n",
    "# HINT: There is a function called np.diag()\n",
    "P_inv = np.diag(1 / (np.diag(A)))\n",
    "\n",
    "# Let's check the condition number of the preconditioned system\n",
    "cond_PA = np.linalg.cond(P_inv @ A)\n",
    "\n",
    "print(\"--- Condition Numbers ---\")\n",
    "print(f\"Original matrix A:      {cond_A:.2e}\")\n",
    "print(f\"Preconditioned P_inv*A: {cond_PA:.2e}\")\n",
    "print(f\"Improvement factor:     {cond_A / cond_PA:.2e} times better\")"
   ]
  },
  {
   "cell_type": "markdown",
   "id": "3e2e1240",
   "metadata": {},
   "source": [
    "As you can see, the condition number has been significantly reduced! This should lead to much faster convergence."
   ]
  },
  {
   "cell_type": "markdown",
   "id": "5e7353be",
   "metadata": {},
   "source": [
    "### 3.4. The Preconditioned Conjugate Gradients Algorithm\n",
    "\n",
    "The algorithm is slightly modified to include the preconditioner. The key step is to solve the system $Pz_k = r_k$ for $z_k$ (which is easy since we have $P^{-1}$).\n",
    "\n",
    "1.  **Initialize**\n",
    "    -   $r_0 = b - Ax_0$\n",
    "    -   Solve $Pz_0 = r_0$ (i.e., $z_0 = P^{-1}r_0$)\n",
    "    -   $p_0 = z_0$\n",
    "    -   $k = 0$\n",
    "\n",
    "2.  **Iterate**:\n",
    "    -   $\\alpha_k = \\frac{r_k^T z_k}{p_k^T A p_k}$\n",
    "    -   $x_{k+1} = x_k + \\alpha_k p_k$\n",
    "    -   $r_{k+1} = r_k - \\alpha_k A p_k$\n",
    "    -   Check for convergence on $|r_{k+1}|$\n",
    "    -   Solve $Pz_{k+1} = r_{k+1}$\n",
    "    -   $\\beta_k = \\frac{r_{k+1}^T z_{k+1}}{r_k^T z_k}$\n",
    "    -   $p_{k+1} = z_{k+1} + \\beta_k p_k$\n",
    "\n",
    "Now, implement the PCG algorithm below."
   ]
  },
  {
   "cell_type": "code",
   "execution_count": null,
   "id": "173a0a70",
   "metadata": {},
   "outputs": [],
   "source": [
    "def preconditioned_conjugate_gradient(A, b, P_inv, x0=None, tol=1e-6, max_iter=1000):\n",
    "    \"\"\"\n",
    "    Solves the system Ax = b using the Preconditioned Conjugate Gradient method.\n",
    "    \"\"\"\n",
    "    n = len(b)\n",
    "\n",
    "    if x0 is None:\n",
    "        x = np.zeros(n)\n",
    "    else:\n",
    "        x = x0\n",
    "\n",
    "    residuals = []\n",
    "\n",
    "    # ---- TODO: Initialize r, z, p, and rz_old ---- #\n",
    "    r = b - (A @ x)\n",
    "    residuals.append(np.linalg.norm(r))\n",
    "    if residuals[0] < tol:\n",
    "        return x, residuals\n",
    "\n",
    "    # z is the result of applying the preconditioner to r\n",
    "    z = P_inv @ r\n",
    "\n",
    "    # p is the search direction\n",
    "    p = z.copy()  # YOUR CODE HERE\n",
    "\n",
    "    # rz_old is the dot product of r and z\n",
    "    rz_old = r.T @ z\n",
    "    # ----------------------------------------------- #\n",
    "\n",
    "    for i in range(max_iter):\n",
    "        # ---- TODO: Main PCG iteration steps ---- #\n",
    "\n",
    "        # 1. Calculate Ap = A * p\n",
    "        Ap = A @ p\n",
    "\n",
    "        # 2. Calculate step size alpha\n",
    "        alpha = rz_old / (p.T @ Ap)\n",
    "\n",
    "        # 3. Update solution: x_{k+1} = x_k + alpha * p_k\n",
    "        x = x + alpha * p\n",
    "\n",
    "        # 4. Update residual: r_{k+1} = r_k - alpha * Ap\n",
    "        r = r - alpha * Ap\n",
    "\n",
    "        # Check for convergence\n",
    "        residual_norm = np.linalg.norm(r)\n",
    "        residuals.append(residual_norm)\n",
    "        if residual_norm < tol:\n",
    "            print(f\"Converged after {i + 1} iterations.\")\n",
    "            break\n",
    "\n",
    "        # 5. Apply preconditioner for the next step\n",
    "        z = P_inv @ r\n",
    "\n",
    "        # 6. Calculate rz_new\n",
    "        rz_new = r.T @ z\n",
    "\n",
    "        # 7. Update search direction\n",
    "        p = z + (rz_new / rz_old) * p\n",
    "        rz_old = rz_new\n",
    "        # -------------------------------------- #\n",
    "    else:\n",
    "        print(f\"Did not converge within {max_iter} iterations.\")\n",
    "\n",
    "    return x, residuals"
   ]
  },
  {
   "cell_type": "markdown",
   "id": "7e647b5c",
   "metadata": {},
   "source": [
    "### 3.5. Testing the PCG Algorithm\n",
    "\n",
    "Let's run our new PCG implementation and see the difference."
   ]
  },
  {
   "cell_type": "code",
   "execution_count": 52,
   "id": "7e188f8f",
   "metadata": {},
   "outputs": [
    {
     "name": "stdout",
     "output_type": "stream",
     "text": [
      "Solving Ax = b using the direct method (np.linalg.solve)...\n",
      "Solving Ax = b using our own CG implementation...\n",
      "Did not converge within 600 iterations.\n"
     ]
    }
   ],
   "source": [
    "# (Optional): Run the naive solver again, for time comparisons\n",
    "print(\"Solving Ax = b using the direct method (np.linalg.solve)...\")\n",
    "\n",
    "# Time the direct solver\n",
    "start_time = time.time()\n",
    "x_naive = np.linalg.solve(A, b)\n",
    "end_time = time.time()\n",
    "\n",
    "time_naive = end_time - start_time\n",
    "\n",
    "# Check the error\n",
    "error_naive = np.linalg.norm(x_naive - x_true) / np.linalg.norm(x_true)\n",
    "\n",
    "print(\"Solving Ax = b using our own CG implementation...\")\n",
    "\n",
    "# Time the CG solver\n",
    "start_time = time.time()\n",
    "x_cg, residuals_cg = conjugate_gradient(A, b, tol=tol, max_iter=n)\n",
    "end_time = time.time()\n",
    "\n",
    "time_cg = end_time - start_time\n",
    "\n",
    "# Check the error\n",
    "error_cg = np.linalg.norm(x_cg - x_true) / np.linalg.norm(x_true)"
   ]
  },
  {
   "cell_type": "code",
   "execution_count": 53,
   "id": "74d9ad57",
   "metadata": {},
   "outputs": [
    {
     "name": "stdout",
     "output_type": "stream",
     "text": [
      "Solving Ax = b using our own PCG implementation...\n",
      "Converged after 6 iterations.\n",
      "\n",
      "PCG solver finished in 0.0017 seconds.\n",
      "Relative error of the solution: 7.26e-16\n",
      "Final residual norm: 7.09e-10\n",
      "\n",
      "--- Comparison times ---\n",
      "Direct solver time: 0.0050 s\n",
      "Simple CG time:     0.0380 s\n",
      "PCG time:           0.0017 s\n",
      "\n",
      "--- Comparison errors ---\n",
      "Direct solver error: 1.35e-15\n",
      "Simple CG error:     7.56e-01\n",
      "PCG error:           7.26e-16\n"
     ]
    }
   ],
   "source": [
    "print(\"Solving Ax = b using our own PCG implementation...\")\n",
    "\n",
    "# Time the PCG solver\n",
    "start_time = time.time()\n",
    "x_pcg, residuals_pcg = preconditioned_conjugate_gradient(A, b, P_inv, max_iter=n)\n",
    "end_time = time.time()\n",
    "\n",
    "time_pcg = end_time - start_time\n",
    "\n",
    "# Check the error\n",
    "error_pcg = np.linalg.norm(x_pcg - x_true) / np.linalg.norm(x_true)\n",
    "\n",
    "print(f\"\\nPCG solver finished in {time_pcg:.4f} seconds.\")\n",
    "print(f\"Relative error of the solution: {error_pcg:.2e}\")\n",
    "print(f\"Final residual norm: {residuals_pcg[-1]:.2e}\")\n",
    "\n",
    "print(f\"\\n--- Comparison times ---\")\n",
    "print(f\"Direct solver time: {time_naive:.4f} s\")\n",
    "print(f\"Simple CG time:     {time_cg:.4f} s\")\n",
    "print(f\"PCG time:           {time_pcg:.4f} s\")\n",
    "\n",
    "print(f\"\\n--- Comparison errors ---\")\n",
    "print(f\"Direct solver error: {error_naive:.2e}\")\n",
    "print(f\"Simple CG error:     {error_cg:.2e}\")\n",
    "print(f\"PCG error:           {error_pcg:.2e}\")"
   ]
  },
  {
   "cell_type": "markdown",
   "id": "56ac936e",
   "metadata": {},
   "source": [
    "As we can see, the improvement is dramatic and the new algorithm converges after only a handful of steps. Of course, this particular example is designed to show drastic effects, and it will typically not go quite as well in practice, but you get the idea.\n",
    "\n",
    "### Open-ended exercise: Explore the limitations of the methods we implemented\n",
    "\n",
    "- Just like the first part, take some time to try different values or matrices, and get a feel for the limitations of the algorithm\n",
    "- What happens, if you go back to the first type of matrices that we used, and apply the Jacobi preconditioner?\n",
    "    - Does the result improve?\n",
    "    - What may be the reason for its behaviour?\n",
    "    - What might a suitable preconditioner for this type of matrix look like?\n",
    "- What happens if you try to apply the CG method to a fully random matrix?\n",
    "- You could also try to come up with other kinds of matrix and see where the Jacobi preconditioner starts to fail"
   ]
  },
  {
   "cell_type": "markdown",
   "id": "e4d34c4b",
   "metadata": {},
   "source": [
    "---\n",
    "\n",
    "## Outlook\n",
    "\n",
    "As you've seen in this exercise, the CG method can be a very elegant and efficient approach to solving many issues, *if they have the right properties*. But just as there were many cases, where it brought about a significant performance benefit, there are also many situations, where it is either unsuitable, or the preconditioner needs to be carefully chosen.\n",
    "\n",
    "Always keep in mind: Just because you have a hammer, not every problem is a nail.\n",
    "\n",
    "If you are interested in further reading, you can move on to more advanced topics, such as:\n",
    "\n",
    "- GMRES: The Generalized Minimal Residual applies the ideas of CG in a more general setting. It is on of the standard approaches if you are faced with a non-symmetric matrix $A$. It comes with some drawbacks such as increased memory requirements, though.\n",
    "- Other preconditioners: There are a multitude of preconditioners, and the best choice always depends on the problem you work with. Typical ones include\n",
    "    - Gauss-Seidel: It uses the lower triangular part of $A$, and is relatively difficult to parallelize\n",
    "    - (Symmetric) Succesive Over-Relaxation (SORR): This method is based on Gauss-Seidel, but slightly more involved."
   ]
  }
 ],
 "metadata": {
  "kernelspec": {
   "display_name": "Python 3",
   "language": "python",
   "name": "python3"
  },
  "language_info": {
   "codemirror_mode": {
    "name": "ipython",
    "version": 3
   },
   "file_extension": ".py",
   "mimetype": "text/x-python",
   "name": "python",
   "nbconvert_exporter": "python",
   "pygments_lexer": "ipython3",
   "version": "3.13.7"
  }
 },
 "nbformat": 4,
 "nbformat_minor": 5
}
